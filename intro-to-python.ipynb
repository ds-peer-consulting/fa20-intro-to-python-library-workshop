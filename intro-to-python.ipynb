{
 "cells": [
  {
   "cell_type": "code",
   "execution_count": 1,
   "metadata": {
    "colab": {},
    "colab_type": "code",
    "id": "4BSAs9O6kBHL"
   },
   "outputs": [],
   "source": [
    "from IPython.display import Image\n",
    "from IPython.core.display import HTML \n",
    "import numpy as np"
   ]
  },
  {
   "cell_type": "markdown",
   "metadata": {
    "colab_type": "text",
    "id": "DWbp70nPcVY0"
   },
   "source": [
    "# **Welcome to the Kresge Library's Introduction to Python**\n",
    "### **By Richa Bhattacharya and Carlos E. Ortega**\n",
    "##### In Collaboration with the Division of Data Science's [Data Peer Consulting](https://data.berkeley.edu/ds-peer-consulting)"
   ]
  },
  {
   "cell_type": "markdown",
   "metadata": {},
   "source": [
    "# Richa Bhattacharya\n",
    "![Richa](https://data.berkeley.edu/sites/default/files/styles/width_400/public/richa_-_richa_bhattacharya.jpg?itok=Mr7ME_3R&timestamp=1599264242)\n",
    "\n",
    "Lorem Ipsum"
   ]
  },
  {
   "cell_type": "markdown",
   "metadata": {},
   "source": [
    "# Carlos Eduardo Ortega\n",
    "![Carlos](https://data.berkeley.edu/sites/default/files/styles/width_400/public/img_3245_-_carlos_ortega.jpeg?itok=6cdS9XWS&timestamp=1599261924)\n",
    "Quick Facts About Me:\n",
    "\n",
    "    🐻 Senior at Cal\n",
    "    🎒 Studying Cognitive Science, interest in NLP\n",
    "    👨🏼‍🏫 I love to teach\n",
    "    🏢 Previously worked for U.S. Census Bureau, ICSI, Data 8 Course Staff\n",
    "    📊 Joined the Data Peer Consulting team in Fall '18\n",
    "\n",
    "How to Reach/Stalk Me:\n",
    "\n",
    "    📮 Email: ceos@berkeley.edu\n",
    "    👨🏼‍💻 Github: @SoyCarlos"
   ]
  },
  {
   "cell_type": "markdown",
   "metadata": {
    "colab_type": "text",
    "id": "qiVIlE3ecVZE"
   },
   "source": [
    "# What is Python?"
   ]
  },
  {
   "cell_type": "markdown",
   "metadata": {
    "colab_type": "text",
    "id": "QH8gd9GqxOIx"
   },
   "source": [
    "![Python Logo](images/python-logo.png)\n",
    "\n",
    "From [Python's Official Site](https://www.python.org/doc/essays/blurb/):\n",
    "\n",
    "\n",
    "> Python is an **interpreted**, **object-oriented**, **high-level programming language** with dynamic semantics. Its high-level built in data structures, combined with **dynamic typing** and **dynamic binding**, make it very attractive for **Rapid Application Development**, as well as for use as a **scripting** or glue language to connect existing components together. Python's simple, **easy to learn syntax** emphasizes **readability** and therefore reduces the cost of program maintenance. Python supports **modules** and **packages**, which encourages program modularity and code reuse. The Python interpreter and the extensive standard library are available in source or binary form without charge for all major platforms, and can be freely distributed. \n",
    "\n",
    "In layman terms, Python is:\n",
    "- A Programming Language\n",
    "- Easy to read\n",
    "- Easy to learn\n",
    "- Easy to use with other pre-existing programs\n",
    "- Quick to adapt to any use-cases\n",
    "- Open-Source\n",
    "\n",
    "Modules, packages, and libraries are collections of re-usable code used to improve the interoperability of code and the effiency of programmers.\n",
    "\n",
    "Examples:\n",
    "- [Pandas](https://pandas.pydata.org/) - Today's package of choice for data analysis\n",
    "- [Numpy](https://numpy.org/) - Scientific Computing\n",
    "- [Biopython](https://biopython.org/) - Biological Computation\n",
    "- [Astropy](https://www.astropy.org/index.html) - Astronomy\n",
    "- [Nilearn](http://nilearn.github.io/) - Neuroimaging\n",
    "- [SageMath](https://www.sagemath.org/) - Collection of Math Packages (Elementary, Algebra, Calculus, Number Theory, etc)\n"
   ]
  },
  {
   "cell_type": "markdown",
   "metadata": {
    "colab_type": "text",
    "id": "CRclVvBWcVZV"
   },
   "source": [
    "# Python Fundamentals\n",
    "https://swcarpentry.github.io/python-novice-inflammation/01-intro/index.html\n",
    "\n",
    "### **Simple Calculations and Evaluating Expressions**"
   ]
  },
  {
   "cell_type": "code",
   "execution_count": 203,
   "metadata": {
    "colab": {
     "base_uri": "https://localhost:8080/",
     "height": 36
    },
    "colab_type": "code",
    "id": "XhrwDOzgcVZX",
    "outputId": "f0915339-9f08-4676-a599-4ccad6670835"
   },
   "outputs": [
    {
     "data": {
      "text/plain": [
       "10"
      ]
     },
     "execution_count": 203,
     "metadata": {},
     "output_type": "execute_result"
    }
   ],
   "source": [
    "5 + 5"
   ]
  },
  {
   "cell_type": "code",
   "execution_count": 46,
   "metadata": {
    "colab": {
     "base_uri": "https://localhost:8080/",
     "height": 36
    },
    "colab_type": "code",
    "id": "jVYLFD3ZbQ6p",
    "outputId": "d0ef01e8-d54e-415a-8264-feb8818253ed"
   },
   "outputs": [
    {
     "data": {
      "text/plain": [
       "35"
      ]
     },
     "execution_count": 46,
     "metadata": {},
     "output_type": "execute_result"
    }
   ],
   "source": [
    "5 * 5 + 10"
   ]
  },
  {
   "cell_type": "markdown",
   "metadata": {
    "colab_type": "text",
    "id": "v0u7Znl1bWvt"
   },
   "source": [
    "As we can see below, Python follows PEMDAS while evaluating expressions"
   ]
  },
  {
   "cell_type": "code",
   "execution_count": 47,
   "metadata": {
    "colab": {
     "base_uri": "https://localhost:8080/",
     "height": 36
    },
    "colab_type": "code",
    "id": "APo37dn6bT1Z",
    "outputId": "70da5deb-e1ed-4485-db97-2d978a129c2b"
   },
   "outputs": [
    {
     "data": {
      "text/plain": [
       "75"
      ]
     },
     "execution_count": 47,
     "metadata": {},
     "output_type": "execute_result"
    }
   ],
   "source": [
    "5 * (5 + 10)"
   ]
  },
  {
   "cell_type": "markdown",
   "metadata": {
    "colab_type": "text",
    "id": "VT-Zx2zhbnhP"
   },
   "source": [
    "### **Storing values in variables**"
   ]
  },
  {
   "cell_type": "code",
   "execution_count": 48,
   "metadata": {
    "colab": {
     "base_uri": "https://localhost:8080/",
     "height": 36
    },
    "colab_type": "code",
    "id": "WQ0xpPKSbkbA",
    "outputId": "508db8c2-aaab-47df-971e-ad99b6a75b23"
   },
   "outputs": [
    {
     "name": "stdout",
     "output_type": "stream",
     "text": [
      "You work 40 hours per week\n"
     ]
    }
   ],
   "source": [
    "workHours = 8\n",
    "workDays = 5\n",
    "hoursPerWeek = workHours * workDays\n",
    "print(\"You work \" + str(hoursPerWeek) + \" hours per week\")"
   ]
  },
  {
   "cell_type": "markdown",
   "metadata": {
    "colab_type": "text",
    "id": "xX_hrmmtc_63"
   },
   "source": [
    "Notice a couple of things happened here: \n",
    "*   we set names of our expressions and were able to use those names to evaluate and create other variables\n",
    "*   print statement takes in a string so we needed to convert our hoursPerWeek variable which has a type int to a type string\n",
    "\n"
   ]
  },
  {
   "cell_type": "markdown",
   "metadata": {
    "colab_type": "text",
    "id": "xU7hlMR7dx5n"
   },
   "source": [
    "### **Built-in Variable Types**"
   ]
  },
  {
   "cell_type": "markdown",
   "metadata": {
    "colab_type": "text",
    "id": "exqAwKRCqzaR"
   },
   "source": [
    "![Data Types](images/data_types.png)"
   ]
  },
  {
   "cell_type": "markdown",
   "metadata": {
    "colab_type": "text",
    "id": "JHloIgkiqpmd"
   },
   "source": [
    "*https://www.w3schools.com/python/python_datatypes.*"
   ]
  },
  {
   "cell_type": "markdown",
   "metadata": {
    "colab_type": "text",
    "id": "C2WIiIeSg3Ij"
   },
   "source": [
    "In other programming languages like Java, you would need to specify what type of data your variable holds when you declare it. In Python you don't need to specify:\n",
    "\n",
    "\n"
   ]
  },
  {
   "cell_type": "code",
   "execution_count": 50,
   "metadata": {
    "colab": {
     "base_uri": "https://localhost:8080/",
     "height": 36
    },
    "colab_type": "code",
    "id": "670wQe95duzq",
    "outputId": "e5bac039-f99a-4e72-8037-6e0a42d0207e"
   },
   "outputs": [
    {
     "name": "stdout",
     "output_type": "stream",
     "text": [
      "19 Richa\n"
     ]
    }
   ],
   "source": [
    "#In Java:\n",
    "#   int age = 19;\n",
    "#   String name = \"Richa\";\n",
    "\n",
    "#In Python:\n",
    "age = 19\n",
    "name = \"Richa\"\n",
    "print(age, name)"
   ]
  },
  {
   "cell_type": "markdown",
   "metadata": {
    "colab_type": "text",
    "id": "-kPDOc5GiuRq"
   },
   "source": [
    "**Note:** Assigning a value to one variable does not change values of other variables. \n",
    "\n",
    "For example, let's try to convert weight in kilograms to pounds:"
   ]
  },
  {
   "cell_type": "code",
   "execution_count": 51,
   "metadata": {
    "colab": {
     "base_uri": "https://localhost:8080/",
     "height": 36
    },
    "colab_type": "code",
    "id": "6AjAQnh1bl6k",
    "outputId": "555b4da1-2d7f-46be-f767-b28f1261f7d3"
   },
   "outputs": [
    {
     "name": "stdout",
     "output_type": "stream",
     "text": [
      "100 kilograms in pounds is 220.00000000000003 lbs\n"
     ]
    }
   ],
   "source": [
    "weight_kgs = 100\n",
    "#There are 2.2 kilograms in a pound\n",
    "weight_lbs = 2.2 * weight_kgs\n",
    "print(str(weight_kgs) + \" kilograms in pounds is \" + str(weight_lbs) + \" lbs\")"
   ]
  },
  {
   "cell_type": "markdown",
   "metadata": {
    "colab_type": "text",
    "id": "QirezTYbkOQI"
   },
   "source": [
    "### **Exercise:** What data type is 2.2? \n",
    "##### *(Hint: If you're unsure, the type function may be useful)*\n",
    "\n"
   ]
  },
  {
   "cell_type": "markdown",
   "metadata": {
    "colab_type": "text",
    "id": "kVCEL-JRlOgo"
   },
   "source": [
    "ANSWER HERE"
   ]
  },
  {
   "cell_type": "markdown",
   "metadata": {},
   "source": [
    "### **Exercise:** How can we have our weight return an integer as well?"
   ]
  },
  {
   "cell_type": "code",
   "execution_count": 2,
   "metadata": {
    "colab": {
     "base_uri": "https://localhost:8080/",
     "height": 36
    },
    "colab_type": "code",
    "id": "2-A35t94l5IR",
    "outputId": "90b2a8f3-bce6-4b32-f244-091420c96941"
   },
   "outputs": [
    {
     "name": "stdout",
     "output_type": "stream",
     "text": [
      "Ellipsis\n"
     ]
    }
   ],
   "source": [
    "weight_lbs = ...\n",
    "print(str(weight_lbs))"
   ]
  },
  {
   "cell_type": "markdown",
   "metadata": {
    "colab_type": "text",
    "id": "CcAOQ9Bnmhv8"
   },
   "source": [
    "### **Exercise:** After every line of this code, write down what you think each variable's value will be:"
   ]
  },
  {
   "cell_type": "code",
   "execution_count": 3,
   "metadata": {
    "colab": {},
    "colab_type": "code",
    "id": "IhWXiMoRm1o4"
   },
   "outputs": [],
   "source": [
    "temp_celsius = 5\n",
    "#convert to kelvin = celsius + ~273 \n",
    "temp_kelvin = ...\n",
    "temp_celsius = ..."
   ]
  },
  {
   "cell_type": "markdown",
   "metadata": {
    "colab_type": "text",
    "id": "n5l903M_owrl"
   },
   "source": [
    "Since temp_kelvin stored a copy of the value of temp_celcius, it does not update when temp_celcius is changed. "
   ]
  },
  {
   "cell_type": "markdown",
   "metadata": {
    "colab_type": "text",
    "id": "Bw9TyLSdq-Ev"
   },
   "source": [
    "### **Exercise:**\n",
    "*   **Create a variable storing the current temperature at Cal in Fahrenheit**\n",
    "*   **Create a variable converting the current temp to the nearest degree Celsius**\n",
    "*   **Create a variable converting the current temp to the nearest degree Kelvin**\n",
    "*   **Print the following statement as shown below in ONE line of code:**\n",
    "\n"
   ]
  },
  {
   "cell_type": "markdown",
   "metadata": {
    "colab_type": "text",
    "id": "noRMUoV9wMja"
   },
   "source": [
    "![Screen Shot 2020-09-05 at 3.09.51 AM.png](data:image/png;base64,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)"
   ]
  },
  {
   "cell_type": "markdown",
   "metadata": {
    "colab_type": "text",
    "id": "Ad68VI2suzUF"
   },
   "source": [
    "*(Hint: How do you make a new line in a print statement?)*\n",
    "\n",
    "*(Hint: How do you convert a float to an int?)*\n",
    "\n",
    "*(Hint: How do you print integers?)*\n",
    "\n",
    "\n",
    "\n",
    "\n"
   ]
  },
  {
   "cell_type": "code",
   "execution_count": 4,
   "metadata": {
    "colab": {
     "base_uri": "https://localhost:8080/",
     "height": 92
    },
    "colab_type": "code",
    "id": "t8bfYKsltzju",
    "outputId": "6a3806ba-0ff3-4e5a-8fd9-69752008e8a8"
   },
   "outputs": [
    {
     "name": "stdout",
     "output_type": "stream",
     "text": [
      "The current temperature at Cal is:\n",
      "70 in Fahrenheit\n",
      "Ellipsis in Celsius\n",
      "Ellipsis in Kelvin\n"
     ]
    }
   ],
   "source": [
    "tempf = 70\n",
    "tempc = ...\n",
    "tempk = ...\n",
    "print(\"The current temperature at Cal is:\\n\" + str(tempf) + \" in Fahrenheit\\n\" + str(tempc) + \" in Celsius\\n\" + str(tempk) + \" in Kelvin\")"
   ]
  },
  {
   "cell_type": "markdown",
   "metadata": {
    "colab_type": "text",
    "id": "7hJ9E3ynvZ4o"
   },
   "source": [
    "\n",
    "\n",
    "---\n",
    "\n"
   ]
  },
  {
   "cell_type": "markdown",
   "metadata": {
    "colab_type": "text",
    "id": "LIddUmPBcVZp"
   },
   "source": [
    "# Repeating Actions with Loops\n",
    "https://swcarpentry.github.io/python-novice-inflammation/04-loop/index.html"
   ]
  },
  {
   "cell_type": "markdown",
   "metadata": {
    "colab_type": "text",
    "id": "ym-NlHMl-2ke"
   },
   "source": [
    "#### **QUESTION:** How can we do the same operations on different values? "
   ]
  },
  {
   "cell_type": "markdown",
   "metadata": {
    "colab_type": "text",
    "id": "zncu0fUFBrfx"
   },
   "source": [
    "Suppose we have the word \"lead\" and we want to print out each individual letter per line. We could write it out manually:\n",
    "\n",
    "\n",
    "\n",
    "```\n",
    "word = \"lead\"\n",
    "print(word[0])\n",
    "print(word[1])\n",
    "print(word[2])\n",
    "print(word[3])\n",
    "```\n",
    "\n"
   ]
  },
  {
   "cell_type": "markdown",
   "metadata": {
    "colab_type": "text",
    "id": "CVJHqNlJDYh3"
   },
   "source": [
    "But this would be super cumbersome if we had to do this for longer words like \"Pseudopseudohypoparathyroidism\".\n",
    "\n",
    "This is where loops would be useful to have:"
   ]
  },
  {
   "cell_type": "code",
   "execution_count": 52,
   "metadata": {
    "colab": {
     "base_uri": "https://localhost:8080/",
     "height": 119
    },
    "colab_type": "code",
    "id": "tlj7UW5EBazs",
    "outputId": "d3bde22a-57af-4dba-d596-4a0620a6e239"
   },
   "outputs": [
    {
     "name": "stdout",
     "output_type": "stream",
     "text": [
      "p\n",
      "y\n",
      "t\n",
      "h\n",
      "o\n",
      "n\n"
     ]
    }
   ],
   "source": [
    "word = \"python\"\n",
    "for letter in word:\n",
    "  print(letter)"
   ]
  },
  {
   "cell_type": "code",
   "execution_count": 30,
   "metadata": {
    "colab": {
     "base_uri": "https://localhost:8080/",
     "height": 34
    },
    "colab_type": "code",
    "id": "JI2LMPjDMrpP",
    "outputId": "724932cf-1210-445f-f9d3-1b0d3b3364c1"
   },
   "outputs": [
    {
     "name": "stdout",
     "output_type": "stream",
     "text": [
      "8\n"
     ]
    }
   ],
   "source": [
    "word = \"workshop\"\n",
    "lengthOfWord = 0;\n",
    "for letter in word:\n",
    "    lengthOfWord = lengthOfWord + 1\n",
    "print(lengthOfWord)"
   ]
  },
  {
   "cell_type": "markdown",
   "metadata": {
    "colab_type": "text",
    "id": "1tH4wsK5Qj_1"
   },
   "source": [
    "### **Exercise:** What does this code do?"
   ]
  },
  {
   "cell_type": "code",
   "execution_count": 31,
   "metadata": {
    "colab": {
     "base_uri": "https://localhost:8080/",
     "height": 34
    },
    "colab_type": "code",
    "id": "S-urI4IiKC9p",
    "outputId": "5b870f00-92ce-4ca5-f463-32daac5891af"
   },
   "outputs": [
    {
     "name": "stdout",
     "output_type": "stream",
     "text": [
      "120\n"
     ]
    }
   ],
   "source": [
    "total = 1;\n",
    "for i in range(1,6):\n",
    "  total = total*i\n",
    "print(total)"
   ]
  },
  {
   "cell_type": "markdown",
   "metadata": {
    "colab_type": "text",
    "id": "YtJ50hBDcVZ1"
   },
   "source": [
    "# Making Choices with Conditionals\n",
    "https://swcarpentry.github.io/python-novice-inflammation/07-cond/index.html"
   ]
  },
  {
   "cell_type": "markdown",
   "metadata": {
    "colab_type": "text",
    "id": "ovASF0Pc8eMN"
   },
   "source": [
    "When we start working with a lot of data, we might want to start treating different groups of data different from others. Let's see how in the next cell."
   ]
  },
  {
   "cell_type": "code",
   "execution_count": 32,
   "metadata": {
    "colab": {
     "base_uri": "https://localhost:8080/",
     "height": 36
    },
    "colab_type": "code",
    "id": "mCS-NSK5cVZ3",
    "outputId": "479e8fde-d637-41ba-cfdf-f1886d109de9"
   },
   "outputs": [
    {
     "name": "stdout",
     "output_type": "stream",
     "text": [
      "15 is positive!\n"
     ]
    }
   ],
   "source": [
    "number = 15\n",
    "if number > 0:\n",
    "    print(number, \"is positive!\")"
   ]
  },
  {
   "cell_type": "markdown",
   "metadata": {
    "colab_type": "text",
    "id": "NY5ei-x8-MIp"
   },
   "source": [
    "This is helpful for positive numbers, but I also want to account for negative numbers.\n"
   ]
  },
  {
   "cell_type": "code",
   "execution_count": 33,
   "metadata": {
    "colab": {
     "base_uri": "https://localhost:8080/",
     "height": 36
    },
    "colab_type": "code",
    "id": "7f9ECyd1-KRn",
    "outputId": "9d78abf8-fe95-4dbe-b94a-eb8fc49ffcea"
   },
   "outputs": [
    {
     "name": "stdout",
     "output_type": "stream",
     "text": [
      "-15 is negative!\n"
     ]
    }
   ],
   "source": [
    "number = -15 \n",
    "if number > 0:\n",
    "    print(number, \"is positive!\")\n",
    "else:\n",
    "    print(number, \"is negative!\")"
   ]
  },
  {
   "cell_type": "markdown",
   "metadata": {
    "colab_type": "text",
    "id": "uzf4npcn-9iQ"
   },
   "source": [
    "But wait, what if I input zero, I don't think that's negative or positive."
   ]
  },
  {
   "cell_type": "code",
   "execution_count": 34,
   "metadata": {
    "colab": {
     "base_uri": "https://localhost:8080/",
     "height": 36
    },
    "colab_type": "code",
    "id": "L-ySwMT9-818",
    "outputId": "00dca97b-a9e8-4b96-eefa-99eb2559968e"
   },
   "outputs": [
    {
     "name": "stdout",
     "output_type": "stream",
     "text": [
      "0 is zero!\n"
     ]
    }
   ],
   "source": [
    "number = 0\n",
    "if number > 0:\n",
    "    print(number, \"is positive!\")\n",
    "elif number < 0:\n",
    "    print(number, \"is negative\")\n",
    "else:\n",
    "    print(number, \"is zero!\")"
   ]
  },
  {
   "cell_type": "markdown",
   "metadata": {
    "colab_type": "text",
    "id": "6vzSGv8uA3tn"
   },
   "source": [
    "I've decided that I'm going to input my favorite numbers into a loop containing these conditional statements to split them up into three lists: positive, negative, and zeroes."
   ]
  },
  {
   "cell_type": "code",
   "execution_count": 35,
   "metadata": {
    "colab": {
     "base_uri": "https://localhost:8080/",
     "height": 74
    },
    "colab_type": "code",
    "id": "NSXV7ZPgA2xr",
    "outputId": "dfaf5553-ad67-4958-a09e-5f69931c36c9"
   },
   "outputs": [
    {
     "name": "stdout",
     "output_type": "stream",
     "text": [
      "Favorite Positive Numbers: [4, 8, 15, 16, 23, 42] \n",
      "Favorite Negative Numbers: [-12, -1] \n",
      "Favorite Zeroes: [0, 0]\n"
     ]
    }
   ],
   "source": [
    "favorite_numbers = [4, 0, 8, -12, 15, 16, -1, 23, 0, 42]\n",
    "favorite_positive_numbers = []\n",
    "favorite_negative_numbers = []\n",
    "favorite_zeroes = []\n",
    "\n",
    "for number in favorite_numbers:\n",
    "    if number > 0:\n",
    "        favorite_positive_numbers.append(number)\n",
    "    elif number < 0:\n",
    "        favorite_negative_numbers.append(number)\n",
    "    else:\n",
    "        favorite_zeroes.append(number)\n",
    "\n",
    "print(\"Favorite Positive Numbers:\", favorite_positive_numbers, \"\\nFavorite Negative Numbers:\", favorite_negative_numbers, \"\\nFavorite Zeroes:\", favorite_zeroes)"
   ]
  },
  {
   "cell_type": "markdown",
   "metadata": {
    "colab_type": "text",
    "id": "tcRIZR2F9wL0"
   },
   "source": [
    "In the first section, we mentioned **boolean values**.\n",
    "\n",
    "Boolean values are **True** or **False**.\n",
    "\n",
    "These are most often calculated using relational operators. Some examples of relational operators are:\n",
    "\n",
    "\n",
    "```\n",
    "# Check if two values are equal (==)\n",
    "5 == 1\n",
    "False\n",
    "\n",
    "#Check if two values are NOT equal (!=)\n",
    "5 != 1\n",
    "True\n",
    "\n",
    "# Greater than or equal to (>=)\n",
    "5 >= 1\n",
    "True\n",
    "\n",
    "# Less than or equal to (<=)\n",
    "5 <= 1\n",
    "False\n",
    "\n",
    "# Less than (<)\n",
    "5 < 5\n",
    "False\n",
    "\n",
    "# Greater than (>)\n",
    "5 > 1\n",
    "True\n",
    "```\n",
    "\n"
   ]
  },
  {
   "cell_type": "markdown",
   "metadata": {
    "colab_type": "text",
    "id": "8ql7K2cWDIL5"
   },
   "source": [
    "Conditionals are **if**, **elif**, and **else** statements. If and elif statements run the code inside them only if their boolean value is True, the else statement will be used.\n",
    "\n",
    "\n",
    "```\n",
    "if True:\n",
    "    # Run This Code\n",
    "elif True:\n",
    "    # Run this code\n",
    "else:\n",
    "    # Everything else was False, run this code.\n",
    "```\n",
    "\n",
    "**Note:** All numbers (except 0) and strings on their own are evaluted as True values."
   ]
  },
  {
   "cell_type": "code",
   "execution_count": 53,
   "metadata": {
    "colab": {
     "base_uri": "https://localhost:8080/",
     "height": 36
    },
    "colab_type": "code",
    "id": "6ENyh-t09myK",
    "outputId": "87c8e6dc-f1ab-47b4-86bb-65654c15ddcf"
   },
   "outputs": [
    {
     "name": "stdout",
     "output_type": "stream",
     "text": [
      "True\n"
     ]
    }
   ],
   "source": [
    "if 1:\n",
    "    print(True)"
   ]
  },
  {
   "cell_type": "code",
   "execution_count": 54,
   "metadata": {
    "colab": {
     "base_uri": "https://localhost:8080/",
     "height": 36
    },
    "colab_type": "code",
    "id": "n9l8CIBtEZrE",
    "outputId": "12562acc-7202-4df3-b786-12faddb873b9"
   },
   "outputs": [
    {
     "name": "stdout",
     "output_type": "stream",
     "text": [
      "False\n"
     ]
    }
   ],
   "source": [
    "if 0:\n",
    "    print(True)\n",
    "else:\n",
    "    print(False)"
   ]
  },
  {
   "cell_type": "code",
   "execution_count": 55,
   "metadata": {
    "colab": {
     "base_uri": "https://localhost:8080/",
     "height": 36
    },
    "colab_type": "code",
    "id": "xCirg6QREdHA",
    "outputId": "40d60c76-08e8-4772-bcf2-e45317d39788"
   },
   "outputs": [
    {
     "name": "stdout",
     "output_type": "stream",
     "text": [
      "True\n"
     ]
    }
   ],
   "source": [
    "if \"Anything\":\n",
    "    print(True)"
   ]
  },
  {
   "cell_type": "markdown",
   "metadata": {
    "colab_type": "text",
    "id": "5usanZHrFKkg"
   },
   "source": [
    "### **Exercise:** \n",
    "#### Create conditional statements that will let me know if the temperature in Berkeley will be Too Hot, Too Cold, or Just Right.\n",
    "\n",
    "**NOTE:** I consider anything below 68 to be too cold, anything above 68 too hot, and 68 to be just right."
   ]
  },
  {
   "cell_type": "code",
   "execution_count": 5,
   "metadata": {
    "colab": {
     "base_uri": "https://localhost:8080/",
     "height": 36
    },
    "colab_type": "code",
    "id": "wAcgMfqEEflF",
    "outputId": "cc5c5e40-4c0a-42af-d154-b442b8d04e68"
   },
   "outputs": [
    {
     "name": "stdout",
     "output_type": "stream",
     "text": [
      "Ellipsis\n"
     ]
    }
   ],
   "source": [
    "todays_temperature = 68\n",
    "\n",
    "if ...:\n",
    "    print(...)\n",
    "elif ...:\n",
    "    print(...)\n",
    "else:\n",
    "    print(...)"
   ]
  },
  {
   "cell_type": "markdown",
   "metadata": {
    "colab_type": "text",
    "id": "qfHAiYsQcVZ-"
   },
   "source": [
    "# Creating Functions\n",
    "https://swcarpentry.github.io/python-novice-inflammation/08-func/index.html"
   ]
  },
  {
   "cell_type": "markdown",
   "metadata": {
    "colab_type": "text",
    "id": "_8pC4Ghhl8iS"
   },
   "source": [
    "Looking back at converting temperatures from Fahrenheit to Celsius, what if we want to do this for every temperature we are given? This is where creating a function that can do this for us is useful: "
   ]
  },
  {
   "cell_type": "code",
   "execution_count": 57,
   "metadata": {
    "colab": {
     "base_uri": "https://localhost:8080/",
     "height": 51
    },
    "colab_type": "code",
    "id": "i6Trh1HecVaA",
    "outputId": "706ca824-d4da-48f9-e00a-c6bbbfa885de"
   },
   "outputs": [
    {
     "name": "stdout",
     "output_type": "stream",
     "text": [
      "freezing point of water: 0 C\n",
      "boiling point of water: 100 C\n"
     ]
    }
   ],
   "source": [
    "def f_to_c(temp):\n",
    "    return (int)((temp - 32) * (5/9))\n",
    "freezing = f_to_c(32)\n",
    "boiling = f_to_c(212)\n",
    "print('freezing point of water:', freezing, 'C')\n",
    "print('boiling point of water:', boiling, 'C')"
   ]
  },
  {
   "cell_type": "markdown",
   "metadata": {
    "colab_type": "text",
    "id": "LNXlFIqBvVQ_"
   },
   "source": [
    "#### **Exercise:** Create a function that converts Celsius to Kelvin"
   ]
  },
  {
   "cell_type": "code",
   "execution_count": 6,
   "metadata": {
    "colab": {
     "base_uri": "https://localhost:8080/",
     "height": 34
    },
    "colab_type": "code",
    "id": "Lfo3ckupvhvh",
    "outputId": "f33a6416-3069-4d28-fe6f-c97df846a0d8"
   },
   "outputs": [
    {
     "name": "stdout",
     "output_type": "stream",
     "text": [
      "freezing point of water in Kelvin: Ellipsis\n"
     ]
    }
   ],
   "source": [
    "def c_to_k(temp_c):\n",
    "    return ...\n",
    "\n",
    "print('freezing point of water in Kelvin:', c_to_k(0.))"
   ]
  },
  {
   "cell_type": "markdown",
   "metadata": {
    "colab_type": "text",
    "id": "83g8o2scqniP"
   },
   "source": [
    "#### **Exercise:** Create a function that converts Fahrenheit to Kelvin using the functions we've created previously:"
   ]
  },
  {
   "cell_type": "code",
   "execution_count": 7,
   "metadata": {
    "colab": {
     "base_uri": "https://localhost:8080/",
     "height": 34
    },
    "colab_type": "code",
    "id": "dKf_crEzwFVt",
    "outputId": "c5f3f4fb-6a95-4e1c-f39c-b52e96a0d38c"
   },
   "outputs": [
    {
     "name": "stdout",
     "output_type": "stream",
     "text": [
      "boiling point of water in Kelvin: Ellipsis\n"
     ]
    }
   ],
   "source": [
    "def fahr_to_kelvin(temp_f):\n",
    "    temp_c = ...\n",
    "    temp_k = ...\n",
    "    return ...\n",
    "\n",
    "print('boiling point of water in Kelvin:', fahr_to_kelvin(212.0))"
   ]
  },
  {
   "cell_type": "markdown",
   "metadata": {
    "colab_type": "text",
    "id": "j2_hnqwrwnlH"
   },
   "source": [
    "Functions can be used to make writing code more efficient and less repetitive, but it is also used to encapsulate large chunks of code that solves a particular problem under one name. Below, we can see the function *visualize*, which takes in a filename and visualizes the data that the filename stores."
   ]
  },
  {
   "cell_type": "code",
   "execution_count": 63,
   "metadata": {
    "colab": {},
    "colab_type": "code",
    "id": "BoDN2hRwwkRy"
   },
   "outputs": [],
   "source": [
    "def visualize(filename):\n",
    "\n",
    "    data = numpy.loadtxt(fname=filename, delimiter=',')\n",
    "\n",
    "    fig = matplotlib.pyplot.figure(figsize=(10.0, 3.0))\n",
    "\n",
    "    axes1 = fig.add_subplot(1, 3, 1)\n",
    "    axes2 = fig.add_subplot(1, 3, 2)\n",
    "    axes3 = fig.add_subplot(1, 3, 3)\n",
    "\n",
    "    axes1.set_ylabel('average')\n",
    "    axes1.plot(numpy.mean(data, axis=0))\n",
    "\n",
    "    axes2.set_ylabel('max')\n",
    "    axes2.plot(numpy.max(data, axis=0))\n",
    "\n",
    "    axes3.set_ylabel('min')\n",
    "    axes3.plot(numpy.min(data, axis=0))\n",
    "\n",
    "    fig.tight_layout()\n",
    "    matplotlib.pyplot.show()"
   ]
  },
  {
   "cell_type": "code",
   "execution_count": 64,
   "metadata": {
    "colab": {
     "base_uri": "https://localhost:8080/",
     "height": 51
    },
    "colab_type": "code",
    "id": "C5r7Gqi5xCb0",
    "outputId": "5f15cf16-5979-4237-b656-6d599ba02f29"
   },
   "outputs": [
    {
     "name": "stdout",
     "output_type": "stream",
     "text": [
      "[[3. 3.]\n",
      " [3. 3.]]\n"
     ]
    }
   ],
   "source": [
    "def offset_mean(data, target_mean_value):\n",
    "    return (data - np.mean(data)) + target_mean_value\n",
    "\n",
    "z = np.zeros((2,2))\n",
    "print(offset_mean(z, 3))\n",
    "\n"
   ]
  },
  {
   "cell_type": "markdown",
   "metadata": {
    "colab_type": "text",
    "id": "LjlUvWO4DaXv"
   },
   "source": [
    "### **Additional Information**: Commenting"
   ]
  },
  {
   "cell_type": "markdown",
   "metadata": {
    "colab_type": "text",
    "id": "XIyEw_nzEuDY"
   },
   "source": [
    "Throughout this workshop we have seen a couple of examples of commenting within your code using the hash (#) symbol. Another convenient way of commenting your code that will be extremely useful if you are working on a group project is through docstrings"
   ]
  },
  {
   "cell_type": "code",
   "execution_count": 65,
   "metadata": {
    "colab": {},
    "colab_type": "code",
    "id": "hIBMKeQWDsOx"
   },
   "outputs": [],
   "source": [
    "#This Function converts temperatures inputted in Fahrenheit to Celsius\n",
    "#Parameters: temperature in Fahrenheit\n",
    "#Return Type: int\n",
    "def f_to_c(temp):\n",
    "    return (int)((temp - 32) * (5/9))"
   ]
  },
  {
   "cell_type": "code",
   "execution_count": 66,
   "metadata": {
    "colab": {
     "base_uri": "https://localhost:8080/",
     "height": 119
    },
    "colab_type": "code",
    "id": "jBWdtcy-FFsa",
    "outputId": "1173b75a-68e8-4032-c552-76fa455e256a"
   },
   "outputs": [
    {
     "name": "stdout",
     "output_type": "stream",
     "text": [
      "Help on function f_to_c in module __main__:\n",
      "\n",
      "f_to_c(temp)\n",
      "    Return a new array containing the original data\n",
      "    with its mean offset to match the desired value.\n",
      "\n"
     ]
    }
   ],
   "source": [
    "def f_to_c(temp):\n",
    "    \"\"\"Return a new array containing the original data\n",
    "       with its mean offset to match the desired value.\"\"\"\n",
    "    return (int) ((temp -32) * (5/9))\n",
    "help(f_to_c)"
   ]
  },
  {
   "cell_type": "markdown",
   "metadata": {
    "colab_type": "text",
    "id": "Agri5FkFFZrP"
   },
   "source": [
    "A string like this is called a docstring. We don’t need to use triple quotes when we write one, but if we do, we can break the string across multiple lines:"
   ]
  },
  {
   "cell_type": "code",
   "execution_count": 67,
   "metadata": {
    "colab": {
     "base_uri": "https://localhost:8080/",
     "height": 238
    },
    "colab_type": "code",
    "id": "ukF9qIVVFbGt",
    "outputId": "6d8e86e5-70f3-4c9d-c239-bacd752f0b81"
   },
   "outputs": [
    {
     "name": "stdout",
     "output_type": "stream",
     "text": [
      "Help on function f_to_c in module __main__:\n",
      "\n",
      "f_to_c(temp)\n",
      "    Return a new array containing the original data\n",
      "       with its mean offset to match the desired value.\n",
      "    \n",
      "    Examples\n",
      "    --------\n",
      "    >>> f_to_c(32)\n",
      "    0\n",
      "    >>> f_to_c(212)\n",
      "    100\n",
      "\n"
     ]
    }
   ],
   "source": [
    "def f_to_c(temp):\n",
    "    \"\"\"Return a new array containing the original data\n",
    "       with its mean offset to match the desired value.\n",
    "\n",
    "    Examples\n",
    "    --------\n",
    "    >>> f_to_c(32)\n",
    "    0\n",
    "    >>> f_to_c(212)\n",
    "    100\n",
    "    \"\"\"\n",
    "    return (int) ((temp -32) * (5/9))\n",
    "\n",
    "help(f_to_c)"
   ]
  },
  {
   "cell_type": "markdown",
   "metadata": {
    "colab_type": "text",
    "id": "65oYc7PycVZf"
   },
   "source": [
    "# Analyzing a Dataset\n",
    "https://swcarpentry.github.io/python-novice-inflammation/02-numpy/index.html"
   ]
  },
  {
   "cell_type": "markdown",
   "metadata": {
    "colab": {},
    "colab_type": "code",
    "id": "zaoch_EY5fXf"
   },
   "source": [
    "Data comes in many file tyes and forms, from SQL Databases to Excel Spreadsheets. One of the most common ways to share data is csv files. They are your traditional tabular data and could be opened in Excel. However, once they start to get larger, Excel can begin to lag or have trouble performing basic operations. We'll practice how to do some of those basic operations here."
   ]
  },
  {
   "cell_type": "code",
   "execution_count": 103,
   "metadata": {},
   "outputs": [],
   "source": [
    "# Pandas is our Package, pd is the nickname we'll give it in this notebook\n",
    "import pandas as pd\n",
    "\n",
    "# Pandas reads in data and creates a DataFrame object of them\n",
    "lib_traffic = pd.read_csv('data/HourlyTraffic-2019-12-11.csv')"
   ]
  },
  {
   "cell_type": "markdown",
   "metadata": {},
   "source": [
    "Lets see the first 10 rows"
   ]
  },
  {
   "cell_type": "code",
   "execution_count": 207,
   "metadata": {
    "scrolled": true
   },
   "outputs": [
    {
     "data": {
      "text/html": [
       "<div>\n",
       "<style scoped>\n",
       "    .dataframe tbody tr th:only-of-type {\n",
       "        vertical-align: middle;\n",
       "    }\n",
       "\n",
       "    .dataframe tbody tr th {\n",
       "        vertical-align: top;\n",
       "    }\n",
       "\n",
       "    .dataframe thead th {\n",
       "        text-align: right;\n",
       "    }\n",
       "</style>\n",
       "<table border=\"1\" class=\"dataframe\">\n",
       "  <thead>\n",
       "    <tr style=\"text-align: right;\">\n",
       "      <th></th>\n",
       "      <th>Date-Time</th>\n",
       "      <th>Region</th>\n",
       "      <th>Facility</th>\n",
       "      <th>Entrance</th>\n",
       "      <th>Entries</th>\n",
       "      <th>Exits</th>\n",
       "    </tr>\n",
       "  </thead>\n",
       "  <tbody>\n",
       "    <tr>\n",
       "      <th>0</th>\n",
       "      <td>12/11/19 12:00 AM</td>\n",
       "      <td>NaN</td>\n",
       "      <td>NaN</td>\n",
       "      <td>TEST</td>\n",
       "      <td>0.0</td>\n",
       "      <td>0.0</td>\n",
       "    </tr>\n",
       "    <tr>\n",
       "      <th>1</th>\n",
       "      <td>12/11/19 12:00 AM</td>\n",
       "      <td>UC Berkeley</td>\n",
       "      <td>AHC Library</td>\n",
       "      <td>AHC Back</td>\n",
       "      <td>0.0</td>\n",
       "      <td>0.0</td>\n",
       "    </tr>\n",
       "    <tr>\n",
       "      <th>2</th>\n",
       "      <td>12/11/19 12:00 AM</td>\n",
       "      <td>UC Berkeley</td>\n",
       "      <td>AHC Library</td>\n",
       "      <td>AHC Front</td>\n",
       "      <td>0.0</td>\n",
       "      <td>0.0</td>\n",
       "    </tr>\n",
       "    <tr>\n",
       "      <th>3</th>\n",
       "      <td>12/11/19 12:00 AM</td>\n",
       "      <td>UC Berkeley</td>\n",
       "      <td>ANTH Library</td>\n",
       "      <td>ANTH</td>\n",
       "      <td>0.0</td>\n",
       "      <td>0.0</td>\n",
       "    </tr>\n",
       "    <tr>\n",
       "      <th>4</th>\n",
       "      <td>12/11/19 12:00 AM</td>\n",
       "      <td>UC Berkeley</td>\n",
       "      <td>BANC Library</td>\n",
       "      <td>Bancroft</td>\n",
       "      <td>0.0</td>\n",
       "      <td>0.0</td>\n",
       "    </tr>\n",
       "    <tr>\n",
       "      <th>5</th>\n",
       "      <td>12/11/19 12:00 AM</td>\n",
       "      <td>UC Berkeley</td>\n",
       "      <td>BIOS Library</td>\n",
       "      <td>VLSB1</td>\n",
       "      <td>0.0</td>\n",
       "      <td>0.0</td>\n",
       "    </tr>\n",
       "    <tr>\n",
       "      <th>6</th>\n",
       "      <td>12/11/19 12:00 AM</td>\n",
       "      <td>UC Berkeley</td>\n",
       "      <td>BIOS Library</td>\n",
       "      <td>VLSB2</td>\n",
       "      <td>0.0</td>\n",
       "      <td>0.0</td>\n",
       "    </tr>\n",
       "    <tr>\n",
       "      <th>7</th>\n",
       "      <td>12/11/19 12:00 AM</td>\n",
       "      <td>UC Berkeley</td>\n",
       "      <td>CHEM Library</td>\n",
       "      <td>CHEM</td>\n",
       "      <td>0.0</td>\n",
       "      <td>1.0</td>\n",
       "    </tr>\n",
       "    <tr>\n",
       "      <th>8</th>\n",
       "      <td>12/11/19 12:00 AM</td>\n",
       "      <td>UC Berkeley</td>\n",
       "      <td>DOE Library</td>\n",
       "      <td>Doe North</td>\n",
       "      <td>1.0</td>\n",
       "      <td>1.0</td>\n",
       "    </tr>\n",
       "    <tr>\n",
       "      <th>9</th>\n",
       "      <td>12/11/19 12:00 AM</td>\n",
       "      <td>UC Berkeley</td>\n",
       "      <td>DOE Library</td>\n",
       "      <td>Doe South</td>\n",
       "      <td>3.0</td>\n",
       "      <td>2.0</td>\n",
       "    </tr>\n",
       "  </tbody>\n",
       "</table>\n",
       "</div>"
      ],
      "text/plain": [
       "           Date-Time       Region      Facility   Entrance  Entries  Exits\n",
       "0  12/11/19 12:00 AM          NaN           NaN       TEST      0.0    0.0\n",
       "1  12/11/19 12:00 AM  UC Berkeley   AHC Library   AHC Back      0.0    0.0\n",
       "2  12/11/19 12:00 AM  UC Berkeley   AHC Library  AHC Front      0.0    0.0\n",
       "3  12/11/19 12:00 AM  UC Berkeley  ANTH Library       ANTH      0.0    0.0\n",
       "4  12/11/19 12:00 AM  UC Berkeley  BANC Library   Bancroft      0.0    0.0\n",
       "5  12/11/19 12:00 AM  UC Berkeley  BIOS Library      VLSB1      0.0    0.0\n",
       "6  12/11/19 12:00 AM  UC Berkeley  BIOS Library      VLSB2      0.0    0.0\n",
       "7  12/11/19 12:00 AM  UC Berkeley  CHEM Library       CHEM      0.0    1.0\n",
       "8  12/11/19 12:00 AM  UC Berkeley   DOE Library  Doe North      1.0    1.0\n",
       "9  12/11/19 12:00 AM  UC Berkeley   DOE Library  Doe South      3.0    2.0"
      ]
     },
     "execution_count": 207,
     "metadata": {},
     "output_type": "execute_result"
    }
   ],
   "source": [
    "lib_traffic.head(10)"
   ]
  },
  {
   "cell_type": "markdown",
   "metadata": {},
   "source": [
    "Now what if we want to know how big this table is? Lets get the number of rows and columns"
   ]
  },
  {
   "cell_type": "code",
   "execution_count": 111,
   "metadata": {},
   "outputs": [
    {
     "data": {
      "text/plain": [
       "(999, 6)"
      ]
     },
     "execution_count": 111,
     "metadata": {},
     "output_type": "execute_result"
    }
   ],
   "source": [
    "lib_traffic.shape"
   ]
  },
  {
   "cell_type": "markdown",
   "metadata": {},
   "source": [
    "It's a pretty big table, lets see what types of values are in the 'Facility' and 'Entrance' columns."
   ]
  },
  {
   "cell_type": "code",
   "execution_count": 113,
   "metadata": {},
   "outputs": [
    {
     "data": {
      "text/plain": [
       "(array([nan, 'AHC Library', 'ANTH Library', 'BANC Library', 'BIOS Library',\n",
       "        'CHEM Library', 'DOE Library', 'DOE STACKS', 'EAL Library',\n",
       "        'EART Library', 'ENGI Library', 'ENVI Library', 'GRDS Library',\n",
       "        'HAAS Library', 'MATH Library', 'MOFF Library', 'MORR Library',\n",
       "        'MUSI', 'NEWS Library', 'OPTO Library', 'PHYS Library',\n",
       "        'SEAL Library', 'SOCR Library'], dtype=object),\n",
       " array(['TEST', 'AHC Back', 'AHC Front', 'ANTH', 'Bancroft', 'VLSB1',\n",
       "        'VLSB2', 'CHEM', 'Doe North', 'Doe South', 'Moffit Corridor',\n",
       "        'Stacks East', 'EAL', 'Earth North', 'Earth South', 'ENGI', 'ENVI',\n",
       "        'GRAD', 'HAAS 2F', 'HAAS 3F', 'MATH', 'Moffit Entry',\n",
       "        'Moffit Exit', 'Moffitt 4th', 'Morrison', 'MUSI', 'News', 'OPTO',\n",
       "        'PHYS', 'SEAL', 'SOCR', nan], dtype=object))"
      ]
     },
     "execution_count": 113,
     "metadata": {},
     "output_type": "execute_result"
    }
   ],
   "source": [
    "lib_traffic['Facility'].unique(), lib_traffic['Entrance'].unique()"
   ]
  },
  {
   "cell_type": "markdown",
   "metadata": {},
   "source": [
    "Lets get some quantitative data. What is the highest/lowest number of entries across all libraries and entrances?"
   ]
  },
  {
   "cell_type": "code",
   "execution_count": 114,
   "metadata": {},
   "outputs": [
    {
     "data": {
      "text/plain": [
       "(405.0, 0.0)"
      ]
     },
     "execution_count": 114,
     "metadata": {},
     "output_type": "execute_result"
    }
   ],
   "source": [
    "max(lib_traffic['Entries']), min(lib_traffic['Exits'])"
   ]
  },
  {
   "cell_type": "markdown",
   "metadata": {},
   "source": [
    "This type of quantitative data gives us a good overview of our range, but it can be a bit too time-consuming for larger tables with more columns. Luckily, there's a method for that."
   ]
  },
  {
   "cell_type": "code",
   "execution_count": 115,
   "metadata": {},
   "outputs": [
    {
     "data": {
      "text/html": [
       "<div>\n",
       "<style scoped>\n",
       "    .dataframe tbody tr th:only-of-type {\n",
       "        vertical-align: middle;\n",
       "    }\n",
       "\n",
       "    .dataframe tbody tr th {\n",
       "        vertical-align: top;\n",
       "    }\n",
       "\n",
       "    .dataframe thead th {\n",
       "        text-align: right;\n",
       "    }\n",
       "</style>\n",
       "<table border=\"1\" class=\"dataframe\">\n",
       "  <thead>\n",
       "    <tr style=\"text-align: right;\">\n",
       "      <th></th>\n",
       "      <th>Entries</th>\n",
       "      <th>Exits</th>\n",
       "    </tr>\n",
       "  </thead>\n",
       "  <tbody>\n",
       "    <tr>\n",
       "      <th>count</th>\n",
       "      <td>744.000000</td>\n",
       "      <td>744.000000</td>\n",
       "    </tr>\n",
       "    <tr>\n",
       "      <th>mean</th>\n",
       "      <td>33.131720</td>\n",
       "      <td>33.075269</td>\n",
       "    </tr>\n",
       "    <tr>\n",
       "      <th>std</th>\n",
       "      <td>58.581058</td>\n",
       "      <td>55.650827</td>\n",
       "    </tr>\n",
       "    <tr>\n",
       "      <th>min</th>\n",
       "      <td>0.000000</td>\n",
       "      <td>0.000000</td>\n",
       "    </tr>\n",
       "    <tr>\n",
       "      <th>25%</th>\n",
       "      <td>0.000000</td>\n",
       "      <td>0.000000</td>\n",
       "    </tr>\n",
       "    <tr>\n",
       "      <th>50%</th>\n",
       "      <td>4.000000</td>\n",
       "      <td>6.000000</td>\n",
       "    </tr>\n",
       "    <tr>\n",
       "      <th>75%</th>\n",
       "      <td>40.250000</td>\n",
       "      <td>43.250000</td>\n",
       "    </tr>\n",
       "    <tr>\n",
       "      <th>max</th>\n",
       "      <td>405.000000</td>\n",
       "      <td>300.000000</td>\n",
       "    </tr>\n",
       "  </tbody>\n",
       "</table>\n",
       "</div>"
      ],
      "text/plain": [
       "          Entries       Exits\n",
       "count  744.000000  744.000000\n",
       "mean    33.131720   33.075269\n",
       "std     58.581058   55.650827\n",
       "min      0.000000    0.000000\n",
       "25%      0.000000    0.000000\n",
       "50%      4.000000    6.000000\n",
       "75%     40.250000   43.250000\n",
       "max    405.000000  300.000000"
      ]
     },
     "execution_count": 115,
     "metadata": {},
     "output_type": "execute_result"
    }
   ],
   "source": [
    "lib_traffic.describe()"
   ]
  },
  {
   "cell_type": "markdown",
   "metadata": {},
   "source": [
    "Now, lets sort the Entries and Exits (descending) to find the most popular Entries/Exits."
   ]
  },
  {
   "cell_type": "code",
   "execution_count": 81,
   "metadata": {},
   "outputs": [
    {
     "data": {
      "text/html": [
       "<div>\n",
       "<style scoped>\n",
       "    .dataframe tbody tr th:only-of-type {\n",
       "        vertical-align: middle;\n",
       "    }\n",
       "\n",
       "    .dataframe tbody tr th {\n",
       "        vertical-align: top;\n",
       "    }\n",
       "\n",
       "    .dataframe thead th {\n",
       "        text-align: right;\n",
       "    }\n",
       "</style>\n",
       "<table border=\"1\" class=\"dataframe\">\n",
       "  <thead>\n",
       "    <tr style=\"text-align: right;\">\n",
       "      <th></th>\n",
       "      <th>Date-Time</th>\n",
       "      <th>Region</th>\n",
       "      <th>Facility</th>\n",
       "      <th>Entrance</th>\n",
       "      <th>Entries</th>\n",
       "      <th>Exits</th>\n",
       "    </tr>\n",
       "  </thead>\n",
       "  <tbody>\n",
       "    <tr>\n",
       "      <th>486</th>\n",
       "      <td>12/11/19 3:00 PM</td>\n",
       "      <td>UC Berkeley</td>\n",
       "      <td>MOFF Library</td>\n",
       "      <td>Moffit Entry</td>\n",
       "      <td>405.0</td>\n",
       "      <td>9.0</td>\n",
       "    </tr>\n",
       "    <tr>\n",
       "      <th>455</th>\n",
       "      <td>12/11/19 2:00 PM</td>\n",
       "      <td>UC Berkeley</td>\n",
       "      <td>MOFF Library</td>\n",
       "      <td>Moffit Entry</td>\n",
       "      <td>388.0</td>\n",
       "      <td>13.0</td>\n",
       "    </tr>\n",
       "    <tr>\n",
       "      <th>424</th>\n",
       "      <td>12/11/19 1:00 PM</td>\n",
       "      <td>UC Berkeley</td>\n",
       "      <td>MOFF Library</td>\n",
       "      <td>Moffit Entry</td>\n",
       "      <td>319.0</td>\n",
       "      <td>6.0</td>\n",
       "    </tr>\n",
       "    <tr>\n",
       "      <th>426</th>\n",
       "      <td>12/11/19 1:00 PM</td>\n",
       "      <td>UC Berkeley</td>\n",
       "      <td>MOFF Library</td>\n",
       "      <td>Moffitt 4th</td>\n",
       "      <td>300.0</td>\n",
       "      <td>192.0</td>\n",
       "    </tr>\n",
       "    <tr>\n",
       "      <th>672</th>\n",
       "      <td>12/11/19 9:00 PM</td>\n",
       "      <td>UC Berkeley</td>\n",
       "      <td>MOFF Library</td>\n",
       "      <td>Moffit Entry</td>\n",
       "      <td>288.0</td>\n",
       "      <td>2.0</td>\n",
       "    </tr>\n",
       "    <tr>\n",
       "      <th>641</th>\n",
       "      <td>12/11/19 8:00 PM</td>\n",
       "      <td>UC Berkeley</td>\n",
       "      <td>MOFF Library</td>\n",
       "      <td>Moffit Entry</td>\n",
       "      <td>271.0</td>\n",
       "      <td>5.0</td>\n",
       "    </tr>\n",
       "    <tr>\n",
       "      <th>457</th>\n",
       "      <td>12/11/19 2:00 PM</td>\n",
       "      <td>UC Berkeley</td>\n",
       "      <td>MOFF Library</td>\n",
       "      <td>Moffitt 4th</td>\n",
       "      <td>266.0</td>\n",
       "      <td>201.0</td>\n",
       "    </tr>\n",
       "    <tr>\n",
       "      <th>517</th>\n",
       "      <td>12/11/19 4:00 PM</td>\n",
       "      <td>UC Berkeley</td>\n",
       "      <td>MOFF Library</td>\n",
       "      <td>Moffit Entry</td>\n",
       "      <td>262.0</td>\n",
       "      <td>7.0</td>\n",
       "    </tr>\n",
       "    <tr>\n",
       "      <th>393</th>\n",
       "      <td>12/11/19 12:00 PM</td>\n",
       "      <td>UC Berkeley</td>\n",
       "      <td>MOFF Library</td>\n",
       "      <td>Moffit Entry</td>\n",
       "      <td>258.0</td>\n",
       "      <td>8.0</td>\n",
       "    </tr>\n",
       "    <tr>\n",
       "      <th>579</th>\n",
       "      <td>12/11/19 6:00 PM</td>\n",
       "      <td>UC Berkeley</td>\n",
       "      <td>MOFF Library</td>\n",
       "      <td>Moffit Entry</td>\n",
       "      <td>252.0</td>\n",
       "      <td>1.0</td>\n",
       "    </tr>\n",
       "  </tbody>\n",
       "</table>\n",
       "</div>"
      ],
      "text/plain": [
       "             Date-Time       Region      Facility      Entrance  Entries  \\\n",
       "486   12/11/19 3:00 PM  UC Berkeley  MOFF Library  Moffit Entry    405.0   \n",
       "455   12/11/19 2:00 PM  UC Berkeley  MOFF Library  Moffit Entry    388.0   \n",
       "424   12/11/19 1:00 PM  UC Berkeley  MOFF Library  Moffit Entry    319.0   \n",
       "426   12/11/19 1:00 PM  UC Berkeley  MOFF Library   Moffitt 4th    300.0   \n",
       "672   12/11/19 9:00 PM  UC Berkeley  MOFF Library  Moffit Entry    288.0   \n",
       "641   12/11/19 8:00 PM  UC Berkeley  MOFF Library  Moffit Entry    271.0   \n",
       "457   12/11/19 2:00 PM  UC Berkeley  MOFF Library   Moffitt 4th    266.0   \n",
       "517   12/11/19 4:00 PM  UC Berkeley  MOFF Library  Moffit Entry    262.0   \n",
       "393  12/11/19 12:00 PM  UC Berkeley  MOFF Library  Moffit Entry    258.0   \n",
       "579   12/11/19 6:00 PM  UC Berkeley  MOFF Library  Moffit Entry    252.0   \n",
       "\n",
       "     Exits  \n",
       "486    9.0  \n",
       "455   13.0  \n",
       "424    6.0  \n",
       "426  192.0  \n",
       "672    2.0  \n",
       "641    5.0  \n",
       "457  201.0  \n",
       "517    7.0  \n",
       "393    8.0  \n",
       "579    1.0  "
      ]
     },
     "execution_count": 81,
     "metadata": {},
     "output_type": "execute_result"
    }
   ],
   "source": [
    "lib_traffic.sort_values('Entries', ascending=False).head(10)"
   ]
  },
  {
   "cell_type": "code",
   "execution_count": 82,
   "metadata": {},
   "outputs": [
    {
     "data": {
      "text/html": [
       "<div>\n",
       "<style scoped>\n",
       "    .dataframe tbody tr th:only-of-type {\n",
       "        vertical-align: middle;\n",
       "    }\n",
       "\n",
       "    .dataframe tbody tr th {\n",
       "        vertical-align: top;\n",
       "    }\n",
       "\n",
       "    .dataframe thead th {\n",
       "        text-align: right;\n",
       "    }\n",
       "</style>\n",
       "<table border=\"1\" class=\"dataframe\">\n",
       "  <thead>\n",
       "    <tr style=\"text-align: right;\">\n",
       "      <th></th>\n",
       "      <th>Date-Time</th>\n",
       "      <th>Region</th>\n",
       "      <th>Facility</th>\n",
       "      <th>Entrance</th>\n",
       "      <th>Entries</th>\n",
       "      <th>Exits</th>\n",
       "    </tr>\n",
       "  </thead>\n",
       "  <tbody>\n",
       "    <tr>\n",
       "      <th>549</th>\n",
       "      <td>12/11/19 5:00 PM</td>\n",
       "      <td>UC Berkeley</td>\n",
       "      <td>MOFF Library</td>\n",
       "      <td>Moffit Exit</td>\n",
       "      <td>0.0</td>\n",
       "      <td>300.0</td>\n",
       "    </tr>\n",
       "    <tr>\n",
       "      <th>487</th>\n",
       "      <td>12/11/19 3:00 PM</td>\n",
       "      <td>UC Berkeley</td>\n",
       "      <td>MOFF Library</td>\n",
       "      <td>Moffit Exit</td>\n",
       "      <td>0.0</td>\n",
       "      <td>290.0</td>\n",
       "    </tr>\n",
       "    <tr>\n",
       "      <th>580</th>\n",
       "      <td>12/11/19 6:00 PM</td>\n",
       "      <td>UC Berkeley</td>\n",
       "      <td>MOFF Library</td>\n",
       "      <td>Moffit Exit</td>\n",
       "      <td>0.0</td>\n",
       "      <td>285.0</td>\n",
       "    </tr>\n",
       "    <tr>\n",
       "      <th>673</th>\n",
       "      <td>12/11/19 9:00 PM</td>\n",
       "      <td>UC Berkeley</td>\n",
       "      <td>MOFF Library</td>\n",
       "      <td>Moffit Exit</td>\n",
       "      <td>0.0</td>\n",
       "      <td>278.0</td>\n",
       "    </tr>\n",
       "    <tr>\n",
       "      <th>735</th>\n",
       "      <td>12/11/19 11:00 PM</td>\n",
       "      <td>UC Berkeley</td>\n",
       "      <td>MOFF Library</td>\n",
       "      <td>Moffit Exit</td>\n",
       "      <td>1.0</td>\n",
       "      <td>260.0</td>\n",
       "    </tr>\n",
       "    <tr>\n",
       "      <th>456</th>\n",
       "      <td>12/11/19 2:00 PM</td>\n",
       "      <td>UC Berkeley</td>\n",
       "      <td>MOFF Library</td>\n",
       "      <td>Moffit Exit</td>\n",
       "      <td>0.0</td>\n",
       "      <td>254.0</td>\n",
       "    </tr>\n",
       "    <tr>\n",
       "      <th>518</th>\n",
       "      <td>12/11/19 4:00 PM</td>\n",
       "      <td>UC Berkeley</td>\n",
       "      <td>MOFF Library</td>\n",
       "      <td>Moffit Exit</td>\n",
       "      <td>0.0</td>\n",
       "      <td>243.0</td>\n",
       "    </tr>\n",
       "    <tr>\n",
       "      <th>480</th>\n",
       "      <td>12/11/19 3:00 PM</td>\n",
       "      <td>UC Berkeley</td>\n",
       "      <td>ENGI Library</td>\n",
       "      <td>ENGI</td>\n",
       "      <td>244.0</td>\n",
       "      <td>240.0</td>\n",
       "    </tr>\n",
       "    <tr>\n",
       "      <th>704</th>\n",
       "      <td>12/11/19 10:00 PM</td>\n",
       "      <td>UC Berkeley</td>\n",
       "      <td>MOFF Library</td>\n",
       "      <td>Moffit Exit</td>\n",
       "      <td>0.0</td>\n",
       "      <td>240.0</td>\n",
       "    </tr>\n",
       "    <tr>\n",
       "      <th>535</th>\n",
       "      <td>12/11/19 5:00 PM</td>\n",
       "      <td>UC Berkeley</td>\n",
       "      <td>DOE Library</td>\n",
       "      <td>Doe North</td>\n",
       "      <td>118.0</td>\n",
       "      <td>235.0</td>\n",
       "    </tr>\n",
       "  </tbody>\n",
       "</table>\n",
       "</div>"
      ],
      "text/plain": [
       "             Date-Time       Region      Facility     Entrance  Entries  Exits\n",
       "549   12/11/19 5:00 PM  UC Berkeley  MOFF Library  Moffit Exit      0.0  300.0\n",
       "487   12/11/19 3:00 PM  UC Berkeley  MOFF Library  Moffit Exit      0.0  290.0\n",
       "580   12/11/19 6:00 PM  UC Berkeley  MOFF Library  Moffit Exit      0.0  285.0\n",
       "673   12/11/19 9:00 PM  UC Berkeley  MOFF Library  Moffit Exit      0.0  278.0\n",
       "735  12/11/19 11:00 PM  UC Berkeley  MOFF Library  Moffit Exit      1.0  260.0\n",
       "456   12/11/19 2:00 PM  UC Berkeley  MOFF Library  Moffit Exit      0.0  254.0\n",
       "518   12/11/19 4:00 PM  UC Berkeley  MOFF Library  Moffit Exit      0.0  243.0\n",
       "480   12/11/19 3:00 PM  UC Berkeley  ENGI Library         ENGI    244.0  240.0\n",
       "704  12/11/19 10:00 PM  UC Berkeley  MOFF Library  Moffit Exit      0.0  240.0\n",
       "535   12/11/19 5:00 PM  UC Berkeley   DOE Library    Doe North    118.0  235.0"
      ]
     },
     "execution_count": 82,
     "metadata": {},
     "output_type": "execute_result"
    }
   ],
   "source": [
    "lib_traffic.sort_values('Exits', ascending=False).head(10)"
   ]
  },
  {
   "cell_type": "markdown",
   "metadata": {},
   "source": [
    "### Question: What do the Top 10 rows for Entries & Exits have in common?"
   ]
  },
  {
   "cell_type": "markdown",
   "metadata": {},
   "source": [
    "ANSWER HERE"
   ]
  },
  {
   "cell_type": "markdown",
   "metadata": {},
   "source": [
    "We can filter out using relational operators that we learned earlier.\n",
    "```\n",
    "table_name[table_name[column] == value] # Only keep rows with this value in the selected column\n",
    "table_name[table_name[column] != value] # Only keep rows WITHOUT this value in the selected column\n",
    "table_name[table_name[column] > value] # Only keep rows with greater values in the selected column\n",
    "```\n",
    "\n",
    "Using this, lets focus on the Engineering Library."
   ]
  },
  {
   "cell_type": "code",
   "execution_count": 85,
   "metadata": {},
   "outputs": [
    {
     "data": {
      "text/html": [
       "<div>\n",
       "<style scoped>\n",
       "    .dataframe tbody tr th:only-of-type {\n",
       "        vertical-align: middle;\n",
       "    }\n",
       "\n",
       "    .dataframe tbody tr th {\n",
       "        vertical-align: top;\n",
       "    }\n",
       "\n",
       "    .dataframe thead th {\n",
       "        text-align: right;\n",
       "    }\n",
       "</style>\n",
       "<table border=\"1\" class=\"dataframe\">\n",
       "  <thead>\n",
       "    <tr style=\"text-align: right;\">\n",
       "      <th></th>\n",
       "      <th>Date-Time</th>\n",
       "      <th>Region</th>\n",
       "      <th>Facility</th>\n",
       "      <th>Entrance</th>\n",
       "      <th>Entries</th>\n",
       "      <th>Exits</th>\n",
       "    </tr>\n",
       "  </thead>\n",
       "  <tbody>\n",
       "    <tr>\n",
       "      <th>449</th>\n",
       "      <td>12/11/19 2:00 PM</td>\n",
       "      <td>UC Berkeley</td>\n",
       "      <td>ENGI Library</td>\n",
       "      <td>ENGI</td>\n",
       "      <td>245.0</td>\n",
       "      <td>154.0</td>\n",
       "    </tr>\n",
       "    <tr>\n",
       "      <th>480</th>\n",
       "      <td>12/11/19 3:00 PM</td>\n",
       "      <td>UC Berkeley</td>\n",
       "      <td>ENGI Library</td>\n",
       "      <td>ENGI</td>\n",
       "      <td>244.0</td>\n",
       "      <td>240.0</td>\n",
       "    </tr>\n",
       "    <tr>\n",
       "      <th>511</th>\n",
       "      <td>12/11/19 4:00 PM</td>\n",
       "      <td>UC Berkeley</td>\n",
       "      <td>ENGI Library</td>\n",
       "      <td>ENGI</td>\n",
       "      <td>181.0</td>\n",
       "      <td>189.0</td>\n",
       "    </tr>\n",
       "    <tr>\n",
       "      <th>418</th>\n",
       "      <td>12/11/19 1:00 PM</td>\n",
       "      <td>UC Berkeley</td>\n",
       "      <td>ENGI Library</td>\n",
       "      <td>ENGI</td>\n",
       "      <td>177.0</td>\n",
       "      <td>138.0</td>\n",
       "    </tr>\n",
       "    <tr>\n",
       "      <th>542</th>\n",
       "      <td>12/11/19 5:00 PM</td>\n",
       "      <td>UC Berkeley</td>\n",
       "      <td>ENGI Library</td>\n",
       "      <td>ENGI</td>\n",
       "      <td>147.0</td>\n",
       "      <td>210.0</td>\n",
       "    </tr>\n",
       "    <tr>\n",
       "      <th>387</th>\n",
       "      <td>12/11/19 12:00 PM</td>\n",
       "      <td>UC Berkeley</td>\n",
       "      <td>ENGI Library</td>\n",
       "      <td>ENGI</td>\n",
       "      <td>133.0</td>\n",
       "      <td>112.0</td>\n",
       "    </tr>\n",
       "    <tr>\n",
       "      <th>356</th>\n",
       "      <td>12/11/19 11:00 AM</td>\n",
       "      <td>UC Berkeley</td>\n",
       "      <td>ENGI Library</td>\n",
       "      <td>ENGI</td>\n",
       "      <td>123.0</td>\n",
       "      <td>99.0</td>\n",
       "    </tr>\n",
       "    <tr>\n",
       "      <th>573</th>\n",
       "      <td>12/11/19 6:00 PM</td>\n",
       "      <td>UC Berkeley</td>\n",
       "      <td>ENGI Library</td>\n",
       "      <td>ENGI</td>\n",
       "      <td>120.0</td>\n",
       "      <td>160.0</td>\n",
       "    </tr>\n",
       "    <tr>\n",
       "      <th>635</th>\n",
       "      <td>12/11/19 8:00 PM</td>\n",
       "      <td>UC Berkeley</td>\n",
       "      <td>ENGI Library</td>\n",
       "      <td>ENGI</td>\n",
       "      <td>109.0</td>\n",
       "      <td>76.0</td>\n",
       "    </tr>\n",
       "    <tr>\n",
       "      <th>666</th>\n",
       "      <td>12/11/19 9:00 PM</td>\n",
       "      <td>UC Berkeley</td>\n",
       "      <td>ENGI Library</td>\n",
       "      <td>ENGI</td>\n",
       "      <td>108.0</td>\n",
       "      <td>121.0</td>\n",
       "    </tr>\n",
       "  </tbody>\n",
       "</table>\n",
       "</div>"
      ],
      "text/plain": [
       "             Date-Time       Region      Facility Entrance  Entries  Exits\n",
       "449   12/11/19 2:00 PM  UC Berkeley  ENGI Library     ENGI    245.0  154.0\n",
       "480   12/11/19 3:00 PM  UC Berkeley  ENGI Library     ENGI    244.0  240.0\n",
       "511   12/11/19 4:00 PM  UC Berkeley  ENGI Library     ENGI    181.0  189.0\n",
       "418   12/11/19 1:00 PM  UC Berkeley  ENGI Library     ENGI    177.0  138.0\n",
       "542   12/11/19 5:00 PM  UC Berkeley  ENGI Library     ENGI    147.0  210.0\n",
       "387  12/11/19 12:00 PM  UC Berkeley  ENGI Library     ENGI    133.0  112.0\n",
       "356  12/11/19 11:00 AM  UC Berkeley  ENGI Library     ENGI    123.0   99.0\n",
       "573   12/11/19 6:00 PM  UC Berkeley  ENGI Library     ENGI    120.0  160.0\n",
       "635   12/11/19 8:00 PM  UC Berkeley  ENGI Library     ENGI    109.0   76.0\n",
       "666   12/11/19 9:00 PM  UC Berkeley  ENGI Library     ENGI    108.0  121.0"
      ]
     },
     "execution_count": 85,
     "metadata": {},
     "output_type": "execute_result"
    }
   ],
   "source": [
    "lib_traffic[lib_traffic['Facility'] == 'ENGI Library'].sort_values('Entries', ascending=False).head(10)"
   ]
  },
  {
   "cell_type": "markdown",
   "metadata": {},
   "source": [
    "To get a better pictures of the aggregate values of different groups, Pandas provides the Groupby method. We'll use it below to find the total amount of Entries and Exits by library.\n",
    "\n",
    "[Pandas Groupby Documentation](https://pandas.pydata.org/pandas-docs/stable/reference/api/pandas.DataFrame.groupby.html)"
   ]
  },
  {
   "cell_type": "code",
   "execution_count": 92,
   "metadata": {},
   "outputs": [
    {
     "data": {
      "text/html": [
       "<div>\n",
       "<style scoped>\n",
       "    .dataframe tbody tr th:only-of-type {\n",
       "        vertical-align: middle;\n",
       "    }\n",
       "\n",
       "    .dataframe tbody tr th {\n",
       "        vertical-align: top;\n",
       "    }\n",
       "\n",
       "    .dataframe thead th {\n",
       "        text-align: right;\n",
       "    }\n",
       "</style>\n",
       "<table border=\"1\" class=\"dataframe\">\n",
       "  <thead>\n",
       "    <tr style=\"text-align: right;\">\n",
       "      <th></th>\n",
       "      <th>Entries</th>\n",
       "      <th>Exits</th>\n",
       "    </tr>\n",
       "    <tr>\n",
       "      <th>Facility</th>\n",
       "      <th></th>\n",
       "      <th></th>\n",
       "    </tr>\n",
       "  </thead>\n",
       "  <tbody>\n",
       "    <tr>\n",
       "      <th>MOFF Library</th>\n",
       "      <td>6996.0</td>\n",
       "      <td>6724.0</td>\n",
       "    </tr>\n",
       "    <tr>\n",
       "      <th>DOE Library</th>\n",
       "      <td>3266.0</td>\n",
       "      <td>3258.0</td>\n",
       "    </tr>\n",
       "    <tr>\n",
       "      <th>DOE STACKS</th>\n",
       "      <td>3221.0</td>\n",
       "      <td>3303.0</td>\n",
       "    </tr>\n",
       "    <tr>\n",
       "      <th>ENGI Library</th>\n",
       "      <td>1932.0</td>\n",
       "      <td>1912.0</td>\n",
       "    </tr>\n",
       "    <tr>\n",
       "      <th>HAAS Library</th>\n",
       "      <td>1840.0</td>\n",
       "      <td>2012.0</td>\n",
       "    </tr>\n",
       "  </tbody>\n",
       "</table>\n",
       "</div>"
      ],
      "text/plain": [
       "              Entries   Exits\n",
       "Facility                     \n",
       "MOFF Library   6996.0  6724.0\n",
       "DOE Library    3266.0  3258.0\n",
       "DOE STACKS     3221.0  3303.0\n",
       "ENGI Library   1932.0  1912.0\n",
       "HAAS Library   1840.0  2012.0"
      ]
     },
     "execution_count": 92,
     "metadata": {},
     "output_type": "execute_result"
    }
   ],
   "source": [
    "lib_traffic.groupby('Facility').sum().sort_values('Entries', ascending=False).head(5)"
   ]
  },
  {
   "cell_type": "markdown",
   "metadata": {},
   "source": [
    "### **Exercise**: What is the most popular entry for Moffit Library? Most popular exit?"
   ]
  },
  {
   "cell_type": "code",
   "execution_count": 9,
   "metadata": {},
   "outputs": [
    {
     "data": {
      "text/plain": [
       "Ellipsis"
      ]
     },
     "execution_count": 9,
     "metadata": {},
     "output_type": "execute_result"
    }
   ],
   "source": [
    "moffit_library = ...\n",
    "moffit_library"
   ]
  },
  {
   "cell_type": "markdown",
   "metadata": {
    "colab_type": "text",
    "id": "sEtWgqVccVaJ"
   },
   "source": [
    "# Introduction to Visualization"
   ]
  },
  {
   "cell_type": "markdown",
   "metadata": {},
   "source": [
    "We will go in-depth into visualizations in the next workshop, but here's a sneak peek at what type of visualization you can learn to do."
   ]
  },
  {
   "cell_type": "code",
   "execution_count": 116,
   "metadata": {
    "colab": {},
    "colab_type": "code",
    "id": "xpONkA6mcVaM"
   },
   "outputs": [],
   "source": [
    "import matplotlib.pyplot as plt"
   ]
  },
  {
   "cell_type": "code",
   "execution_count": 182,
   "metadata": {},
   "outputs": [],
   "source": [
    "lib_traffic_clean = lib_traffic[['Date-Time','Facility', 'Entries', 'Exits']].dropna()\n",
    "libs = []\n",
    "for library in lib_traffic_clean['Facility'].unique():\n",
    "    lib = lib_traffic_clean[lib_traffic_clean['Facility'] == library].groupby('Date-Time').sum()\n",
    "    lib['Facility'] = [library] * lib.shape[0]\n",
    "    libs.append(lib)"
   ]
  },
  {
   "cell_type": "code",
   "execution_count": 183,
   "metadata": {},
   "outputs": [
    {
     "data": {
      "image/png": "[encoded data removed]",
      "text/plain": [
       "<Figure size 1440x720 with 1 Axes>"
      ]
     },
     "metadata": {
      "needs_background": "light"
     },
     "output_type": "display_data"
    }
   ],
   "source": [
    "moffit = lib_traffic_clean[lib_traffic_clean['Facility'] == 'MOFF Library']\n",
    "moffit = moffit.groupby('Date-Time').sum()\n",
    "\n",
    "plt.figure(figsize=(20,10))\n",
    "plt.plot(moffit.index, moffit['Entries'], label='Entries')\n",
    "plt.plot(moffit.index, moffit['Exits'], label='Exits')\n",
    "plt.xticks(rotation=45)\n",
    "plt.legend()\n",
    "plt.show()"
   ]
  },
  {
   "cell_type": "code",
   "execution_count": 185,
   "metadata": {},
   "outputs": [
    {
     "data": {
      "image/png": "[encoded data removed]",
      "text/plain": [
       "<Figure size 1440x720 with 1 Axes>"
      ]
     },
     "metadata": {
      "needs_background": "light"
     },
     "output_type": "display_data"
    }
   ],
   "source": [
    "top5 = lib_traffic_clean.groupby('Facility').sum().sort_values('Entries', ascending=False)[:5].index\n",
    "plt.figure(figsize=(20,10))\n",
    "for library in libs:\n",
    "    if library['Facility'].iloc[0] in top5:\n",
    "        plt.plot(library.index, library['Entries'], label=library['Facility'].iloc[0])\n",
    "plt.legend()\n",
    "plt.xticks(rotation=45)\n",
    "plt.show()"
   ]
  },
  {
   "cell_type": "markdown",
   "metadata": {},
   "source": [
    "The next one is an interactive scatter plot with a local regression line to examine the trend of entries.\n",
    "\n",
    "This was made using [Plotly](https://plotly.com/python/)"
   ]
  },
  {
   "cell_type": "code",
   "execution_count": 202,
   "metadata": {},
   "outputs": [
    {
     "data": {
      "application/vnd.plotly.v1+json": {
       "config": {
        "plotlyServerURL": "https://plot.ly"
       },
       "data": [
        {
         "hovertemplate": "Time=%{x}<br>Entries=%{y}<extra></extra>",
         "legendgroup": "",
         "marker": {
          "color": "#636efa",
          "symbol": "circle"
         },
         "mode": "markers",
         "name": "",
         "orientation": "v",
         "showlegend": false,
         "type": "scatter",
         "x": [
          0,
          1,
          2,
          3,
          4,
          5,
          6,
          7,
          8,
          9,
          10,
          11,
          12,
          13,
          14,
          15,
          16,
          17,
          18,
          19,
          20,
          21,
          22,
          23
         ],
         "xaxis": "x",
         "y": [
          1440,
          631,
          1710,
          463,
          371,
          2178,
          176,
          2433,
          126,
          2649,
          62,
          2632,
          29,
          2023,
          35,
          1556,
          59,
          1329,
          104,
          1058,
          349,
          1025,
          1279,
          933
         ],
         "yaxis": "y"
        },
        {
         "hovertemplate": "<b>LOWESS trendline</b><br><br>Time=%{x}<br>Entries=%{y} <b>(trend)</b><extra></extra>",
         "legendgroup": "",
         "marker": {
          "color": "#636efa",
          "symbol": "circle"
         },
         "mode": "lines",
         "name": "",
         "showlegend": false,
         "type": "scatter",
         "x": [
          0,
          1,
          2,
          3,
          4,
          5,
          6,
          7,
          8,
          9,
          10,
          11,
          12,
          13,
          14,
          15,
          16,
          17,
          18,
          19,
          20,
          21,
          22,
          23
         ],
         "xaxis": "x",
         "y": [
          1037.2523602387168,
          1053.524235059299,
          1071.2071775414115,
          1089.5359942373295,
          1106.7299672136144,
          1122.0251525919575,
          1137.2512751853153,
          1157.2248064086104,
          1169.1069854476968,
          1171.4254334117443,
          1159.4772704207635,
          1125.491816963231,
          1073.235552564948,
          1016.1761697370763,
          951.7142352032215,
          894.2233726348848,
          849.5214802637034,
          848.9030428971787,
          850.7238005227946,
          853.4215634332747,
          858.3555277827608,
          866.4426521439171,
          878.8544130224684,
          896.0365594099262
         ],
         "yaxis": "y"
        }
       ],
       "layout": {
        "legend": {
         "tracegroupgap": 0
        },
        "margin": {
         "t": 60
        },
        "template": {
         "data": {
          "bar": [
           {
            "error_x": {
             "color": "#2a3f5f"
            },
            "error_y": {
             "color": "#2a3f5f"
            },
            "marker": {
             "line": {
              "color": "#E5ECF6",
              "width": 0.5
             }
            },
            "type": "bar"
           }
          ],
          "barpolar": [
           {
            "marker": {
             "line": {
              "color": "#E5ECF6",
              "width": 0.5
             }
            },
            "type": "barpolar"
           }
          ],
          "carpet": [
           {
            "aaxis": {
             "endlinecolor": "#2a3f5f",
             "gridcolor": "white",
             "linecolor": "white",
             "minorgridcolor": "white",
             "startlinecolor": "#2a3f5f"
            },
            "baxis": {
             "endlinecolor": "#2a3f5f",
             "gridcolor": "white",
             "linecolor": "white",
             "minorgridcolor": "white",
             "startlinecolor": "#2a3f5f"
            },
            "type": "carpet"
           }
          ],
          "choropleth": [
           {
            "colorbar": {
             "outlinewidth": 0,
             "ticks": ""
            },
            "type": "choropleth"
           }
          ],
          "contour": [
           {
            "colorbar": {
             "outlinewidth": 0,
             "ticks": ""
            },
            "colorscale": [
             [
              0,
              "#0d0887"
             ],
             [
              0.1111111111111111,
              "#46039f"
             ],
             [
              0.2222222222222222,
              "#7201a8"
             ],
             [
              0.3333333333333333,
              "#9c179e"
             ],
             [
              0.4444444444444444,
              "#bd3786"
             ],
             [
              0.5555555555555556,
              "#d8576b"
             ],
             [
              0.6666666666666666,
              "#ed7953"
             ],
             [
              0.7777777777777778,
              "#fb9f3a"
             ],
             [
              0.8888888888888888,
              "#fdca26"
             ],
             [
              1,
              "#f0f921"
             ]
            ],
            "type": "contour"
           }
          ],
          "contourcarpet": [
           {
            "colorbar": {
             "outlinewidth": 0,
             "ticks": ""
            },
            "type": "contourcarpet"
           }
          ],
          "heatmap": [
           {
            "colorbar": {
             "outlinewidth": 0,
             "ticks": ""
            },
            "colorscale": [
             [
              0,
              "#0d0887"
             ],
             [
              0.1111111111111111,
              "#46039f"
             ],
             [
              0.2222222222222222,
              "#7201a8"
             ],
             [
              0.3333333333333333,
              "#9c179e"
             ],
             [
              0.4444444444444444,
              "#bd3786"
             ],
             [
              0.5555555555555556,
              "#d8576b"
             ],
             [
              0.6666666666666666,
              "#ed7953"
             ],
             [
              0.7777777777777778,
              "#fb9f3a"
             ],
             [
              0.8888888888888888,
              "#fdca26"
             ],
             [
              1,
              "#f0f921"
             ]
            ],
            "type": "heatmap"
           }
          ],
          "heatmapgl": [
           {
            "colorbar": {
             "outlinewidth": 0,
             "ticks": ""
            },
            "colorscale": [
             [
              0,
              "#0d0887"
             ],
             [
              0.1111111111111111,
              "#46039f"
             ],
             [
              0.2222222222222222,
              "#7201a8"
             ],
             [
              0.3333333333333333,
              "#9c179e"
             ],
             [
              0.4444444444444444,
              "#bd3786"
             ],
             [
              0.5555555555555556,
              "#d8576b"
             ],
             [
              0.6666666666666666,
              "#ed7953"
             ],
             [
              0.7777777777777778,
              "#fb9f3a"
             ],
             [
              0.8888888888888888,
              "#fdca26"
             ],
             [
              1,
              "#f0f921"
             ]
            ],
            "type": "heatmapgl"
           }
          ],
          "histogram": [
           {
            "marker": {
             "colorbar": {
              "outlinewidth": 0,
              "ticks": ""
             }
            },
            "type": "histogram"
           }
          ],
          "histogram2d": [
           {
            "colorbar": {
             "outlinewidth": 0,
             "ticks": ""
            },
            "colorscale": [
             [
              0,
              "#0d0887"
             ],
             [
              0.1111111111111111,
              "#46039f"
             ],
             [
              0.2222222222222222,
              "#7201a8"
             ],
             [
              0.3333333333333333,
              "#9c179e"
             ],
             [
              0.4444444444444444,
              "#bd3786"
             ],
             [
              0.5555555555555556,
              "#d8576b"
             ],
             [
              0.6666666666666666,
              "#ed7953"
             ],
             [
              0.7777777777777778,
              "#fb9f3a"
             ],
             [
              0.8888888888888888,
              "#fdca26"
             ],
             [
              1,
              "#f0f921"
             ]
            ],
            "type": "histogram2d"
           }
          ],
          "histogram2dcontour": [
           {
            "colorbar": {
             "outlinewidth": 0,
             "ticks": ""
            },
            "colorscale": [
             [
              0,
              "#0d0887"
             ],
             [
              0.1111111111111111,
              "#46039f"
             ],
             [
              0.2222222222222222,
              "#7201a8"
             ],
             [
              0.3333333333333333,
              "#9c179e"
             ],
             [
              0.4444444444444444,
              "#bd3786"
             ],
             [
              0.5555555555555556,
              "#d8576b"
             ],
             [
              0.6666666666666666,
              "#ed7953"
             ],
             [
              0.7777777777777778,
              "#fb9f3a"
             ],
             [
              0.8888888888888888,
              "#fdca26"
             ],
             [
              1,
              "#f0f921"
             ]
            ],
            "type": "histogram2dcontour"
           }
          ],
          "mesh3d": [
           {
            "colorbar": {
             "outlinewidth": 0,
             "ticks": ""
            },
            "type": "mesh3d"
           }
          ],
          "parcoords": [
           {
            "line": {
             "colorbar": {
              "outlinewidth": 0,
              "ticks": ""
             }
            },
            "type": "parcoords"
           }
          ],
          "pie": [
           {
            "automargin": true,
            "type": "pie"
           }
          ],
          "scatter": [
           {
            "marker": {
             "colorbar": {
              "outlinewidth": 0,
              "ticks": ""
             }
            },
            "type": "scatter"
           }
          ],
          "scatter3d": [
           {
            "line": {
             "colorbar": {
              "outlinewidth": 0,
              "ticks": ""
             }
            },
            "marker": {
             "colorbar": {
              "outlinewidth": 0,
              "ticks": ""
             }
            },
            "type": "scatter3d"
           }
          ],
          "scattercarpet": [
           {
            "marker": {
             "colorbar": {
              "outlinewidth": 0,
              "ticks": ""
             }
            },
            "type": "scattercarpet"
           }
          ],
          "scattergeo": [
           {
            "marker": {
             "colorbar": {
              "outlinewidth": 0,
              "ticks": ""
             }
            },
            "type": "scattergeo"
           }
          ],
          "scattergl": [
           {
            "marker": {
             "colorbar": {
              "outlinewidth": 0,
              "ticks": ""
             }
            },
            "type": "scattergl"
           }
          ],
          "scattermapbox": [
           {
            "marker": {
             "colorbar": {
              "outlinewidth": 0,
              "ticks": ""
             }
            },
            "type": "scattermapbox"
           }
          ],
          "scatterpolar": [
           {
            "marker": {
             "colorbar": {
              "outlinewidth": 0,
              "ticks": ""
             }
            },
            "type": "scatterpolar"
           }
          ],
          "scatterpolargl": [
           {
            "marker": {
             "colorbar": {
              "outlinewidth": 0,
              "ticks": ""
             }
            },
            "type": "scatterpolargl"
           }
          ],
          "scatterternary": [
           {
            "marker": {
             "colorbar": {
              "outlinewidth": 0,
              "ticks": ""
             }
            },
            "type": "scatterternary"
           }
          ],
          "surface": [
           {
            "colorbar": {
             "outlinewidth": 0,
             "ticks": ""
            },
            "colorscale": [
             [
              0,
              "#0d0887"
             ],
             [
              0.1111111111111111,
              "#46039f"
             ],
             [
              0.2222222222222222,
              "#7201a8"
             ],
             [
              0.3333333333333333,
              "#9c179e"
             ],
             [
              0.4444444444444444,
              "#bd3786"
             ],
             [
              0.5555555555555556,
              "#d8576b"
             ],
             [
              0.6666666666666666,
              "#ed7953"
             ],
             [
              0.7777777777777778,
              "#fb9f3a"
             ],
             [
              0.8888888888888888,
              "#fdca26"
             ],
             [
              1,
              "#f0f921"
             ]
            ],
            "type": "surface"
           }
          ],
          "table": [
           {
            "cells": {
             "fill": {
              "color": "#EBF0F8"
             },
             "line": {
              "color": "white"
             }
            },
            "header": {
             "fill": {
              "color": "#C8D4E3"
             },
             "line": {
              "color": "white"
             }
            },
            "type": "table"
           }
          ]
         },
         "layout": {
          "annotationdefaults": {
           "arrowcolor": "#2a3f5f",
           "arrowhead": 0,
           "arrowwidth": 1
          },
          "coloraxis": {
           "colorbar": {
            "outlinewidth": 0,
            "ticks": ""
           }
          },
          "colorscale": {
           "diverging": [
            [
             0,
             "#8e0152"
            ],
            [
             0.1,
             "#c51b7d"
            ],
            [
             0.2,
             "#de77ae"
            ],
            [
             0.3,
             "#f1b6da"
            ],
            [
             0.4,
             "#fde0ef"
            ],
            [
             0.5,
             "#f7f7f7"
            ],
            [
             0.6,
             "#e6f5d0"
            ],
            [
             0.7,
             "#b8e186"
            ],
            [
             0.8,
             "#7fbc41"
            ],
            [
             0.9,
             "#4d9221"
            ],
            [
             1,
             "#276419"
            ]
           ],
           "sequential": [
            [
             0,
             "#0d0887"
            ],
            [
             0.1111111111111111,
             "#46039f"
            ],
            [
             0.2222222222222222,
             "#7201a8"
            ],
            [
             0.3333333333333333,
             "#9c179e"
            ],
            [
             0.4444444444444444,
             "#bd3786"
            ],
            [
             0.5555555555555556,
             "#d8576b"
            ],
            [
             0.6666666666666666,
             "#ed7953"
            ],
            [
             0.7777777777777778,
             "#fb9f3a"
            ],
            [
             0.8888888888888888,
             "#fdca26"
            ],
            [
             1,
             "#f0f921"
            ]
           ],
           "sequentialminus": [
            [
             0,
             "#0d0887"
            ],
            [
             0.1111111111111111,
             "#46039f"
            ],
            [
             0.2222222222222222,
             "#7201a8"
            ],
            [
             0.3333333333333333,
             "#9c179e"
            ],
            [
             0.4444444444444444,
             "#bd3786"
            ],
            [
             0.5555555555555556,
             "#d8576b"
            ],
            [
             0.6666666666666666,
             "#ed7953"
            ],
            [
             0.7777777777777778,
             "#fb9f3a"
            ],
            [
             0.8888888888888888,
             "#fdca26"
            ],
            [
             1,
             "#f0f921"
            ]
           ]
          },
          "colorway": [
           "#636efa",
           "#EF553B",
           "#00cc96",
           "#ab63fa",
           "#FFA15A",
           "#19d3f3",
           "#FF6692",
           "#B6E880",
           "#FF97FF",
           "#FECB52"
          ],
          "font": {
           "color": "#2a3f5f"
          },
          "geo": {
           "bgcolor": "white",
           "lakecolor": "white",
           "landcolor": "#E5ECF6",
           "showlakes": true,
           "showland": true,
           "subunitcolor": "white"
          },
          "hoverlabel": {
           "align": "left"
          },
          "hovermode": "closest",
          "mapbox": {
           "style": "light"
          },
          "paper_bgcolor": "white",
          "plot_bgcolor": "#E5ECF6",
          "polar": {
           "angularaxis": {
            "gridcolor": "white",
            "linecolor": "white",
            "ticks": ""
           },
           "bgcolor": "#E5ECF6",
           "radialaxis": {
            "gridcolor": "white",
            "linecolor": "white",
            "ticks": ""
           }
          },
          "scene": {
           "xaxis": {
            "backgroundcolor": "#E5ECF6",
            "gridcolor": "white",
            "gridwidth": 2,
            "linecolor": "white",
            "showbackground": true,
            "ticks": "",
            "zerolinecolor": "white"
           },
           "yaxis": {
            "backgroundcolor": "#E5ECF6",
            "gridcolor": "white",
            "gridwidth": 2,
            "linecolor": "white",
            "showbackground": true,
            "ticks": "",
            "zerolinecolor": "white"
           },
           "zaxis": {
            "backgroundcolor": "#E5ECF6",
            "gridcolor": "white",
            "gridwidth": 2,
            "linecolor": "white",
            "showbackground": true,
            "ticks": "",
            "zerolinecolor": "white"
           }
          },
          "shapedefaults": {
           "line": {
            "color": "#2a3f5f"
           }
          },
          "ternary": {
           "aaxis": {
            "gridcolor": "white",
            "linecolor": "white",
            "ticks": ""
           },
           "baxis": {
            "gridcolor": "white",
            "linecolor": "white",
            "ticks": ""
           },
           "bgcolor": "#E5ECF6",
           "caxis": {
            "gridcolor": "white",
            "linecolor": "white",
            "ticks": ""
           }
          },
          "title": {
           "x": 0.05
          },
          "xaxis": {
           "automargin": true,
           "gridcolor": "white",
           "linecolor": "white",
           "ticks": "",
           "title": {
            "standoff": 15
           },
           "zerolinecolor": "white",
           "zerolinewidth": 2
          },
          "yaxis": {
           "automargin": true,
           "gridcolor": "white",
           "linecolor": "white",
           "ticks": "",
           "title": {
            "standoff": 15
           },
           "zerolinecolor": "white",
           "zerolinewidth": 2
          }
         }
        },
        "xaxis": {
         "anchor": "y",
         "domain": [
          0,
          1
         ],
         "title": {
          "text": "Time"
         }
        },
        "yaxis": {
         "anchor": "x",
         "domain": [
          0,
          1
         ],
         "title": {
          "text": "Entries"
         }
        }
       }
      },
      "text/html": [
       "<div>\n",
       "        \n",
       "        \n",
       "            <div id=\"aff321ea-b851-4a27-84a8-ba76d4a8a881\" class=\"plotly-graph-div\" style=\"height:525px; width:100%;\"></div>\n",
       "            <script type=\"text/javascript\">\n",
       "                require([\"plotly\"], function(Plotly) {\n",
       "                    window.PLOTLYENV=window.PLOTLYENV || {};\n",
       "                    \n",
       "                if (document.getElementById(\"aff321ea-b851-4a27-84a8-ba76d4a8a881\")) {\n",
       "                    Plotly.newPlot(\n",
       "                        'aff321ea-b851-4a27-84a8-ba76d4a8a881',\n",
       "                        [{\"hovertemplate\": \"Time=%{x}<br>Entries=%{y}<extra></extra>\", \"legendgroup\": \"\", \"marker\": {\"color\": \"#636efa\", \"symbol\": \"circle\"}, \"mode\": \"markers\", \"name\": \"\", \"orientation\": \"v\", \"showlegend\": false, \"type\": \"scatter\", \"x\": [0, 1, 2, 3, 4, 5, 6, 7, 8, 9, 10, 11, 12, 13, 14, 15, 16, 17, 18, 19, 20, 21, 22, 23], \"xaxis\": \"x\", \"y\": [1440.0, 631.0, 1710.0, 463.0, 371.0, 2178.0, 176.0, 2433.0, 126.0, 2649.0, 62.0, 2632.0, 29.0, 2023.0, 35.0, 1556.0, 59.0, 1329.0, 104.0, 1058.0, 349.0, 1025.0, 1279.0, 933.0], \"yaxis\": \"y\"}, {\"hovertemplate\": \"<b>LOWESS trendline</b><br><br>Time=%{x}<br>Entries=%{y} <b>(trend)</b><extra></extra>\", \"legendgroup\": \"\", \"marker\": {\"color\": \"#636efa\", \"symbol\": \"circle\"}, \"mode\": \"lines\", \"name\": \"\", \"showlegend\": false, \"type\": \"scatter\", \"x\": [0.0, 1.0, 2.0, 3.0, 4.0, 5.0, 6.0, 7.0, 8.0, 9.0, 10.0, 11.0, 12.0, 13.0, 14.0, 15.0, 16.0, 17.0, 18.0, 19.0, 20.0, 21.0, 22.0, 23.0], \"xaxis\": \"x\", \"y\": [1037.2523602387168, 1053.524235059299, 1071.2071775414115, 1089.5359942373295, 1106.7299672136144, 1122.0251525919575, 1137.2512751853153, 1157.2248064086104, 1169.1069854476968, 1171.4254334117443, 1159.4772704207635, 1125.491816963231, 1073.235552564948, 1016.1761697370763, 951.7142352032215, 894.2233726348848, 849.5214802637034, 848.9030428971787, 850.7238005227946, 853.4215634332747, 858.3555277827608, 866.4426521439171, 878.8544130224684, 896.0365594099262], \"yaxis\": \"y\"}],\n",
       "                        {\"legend\": {\"tracegroupgap\": 0}, \"margin\": {\"t\": 60}, \"template\": {\"data\": {\"bar\": [{\"error_x\": {\"color\": \"#2a3f5f\"}, \"error_y\": {\"color\": \"#2a3f5f\"}, \"marker\": {\"line\": {\"color\": \"#E5ECF6\", \"width\": 0.5}}, \"type\": \"bar\"}], \"barpolar\": [{\"marker\": {\"line\": {\"color\": \"#E5ECF6\", \"width\": 0.5}}, \"type\": \"barpolar\"}], \"carpet\": [{\"aaxis\": {\"endlinecolor\": \"#2a3f5f\", \"gridcolor\": \"white\", \"linecolor\": \"white\", \"minorgridcolor\": \"white\", \"startlinecolor\": \"#2a3f5f\"}, \"baxis\": {\"endlinecolor\": \"#2a3f5f\", \"gridcolor\": \"white\", \"linecolor\": \"white\", \"minorgridcolor\": \"white\", \"startlinecolor\": \"#2a3f5f\"}, \"type\": \"carpet\"}], \"choropleth\": [{\"colorbar\": {\"outlinewidth\": 0, \"ticks\": \"\"}, \"type\": \"choropleth\"}], \"contour\": [{\"colorbar\": {\"outlinewidth\": 0, \"ticks\": \"\"}, \"colorscale\": [[0.0, \"#0d0887\"], [0.1111111111111111, \"#46039f\"], [0.2222222222222222, \"#7201a8\"], [0.3333333333333333, \"#9c179e\"], [0.4444444444444444, \"#bd3786\"], [0.5555555555555556, \"#d8576b\"], [0.6666666666666666, \"#ed7953\"], [0.7777777777777778, \"#fb9f3a\"], [0.8888888888888888, \"#fdca26\"], [1.0, \"#f0f921\"]], \"type\": \"contour\"}], \"contourcarpet\": [{\"colorbar\": {\"outlinewidth\": 0, \"ticks\": \"\"}, \"type\": \"contourcarpet\"}], \"heatmap\": [{\"colorbar\": {\"outlinewidth\": 0, \"ticks\": \"\"}, \"colorscale\": [[0.0, \"#0d0887\"], [0.1111111111111111, \"#46039f\"], [0.2222222222222222, \"#7201a8\"], [0.3333333333333333, \"#9c179e\"], [0.4444444444444444, \"#bd3786\"], [0.5555555555555556, \"#d8576b\"], [0.6666666666666666, \"#ed7953\"], [0.7777777777777778, \"#fb9f3a\"], [0.8888888888888888, \"#fdca26\"], [1.0, \"#f0f921\"]], \"type\": \"heatmap\"}], \"heatmapgl\": [{\"colorbar\": {\"outlinewidth\": 0, \"ticks\": \"\"}, \"colorscale\": [[0.0, \"#0d0887\"], [0.1111111111111111, \"#46039f\"], [0.2222222222222222, \"#7201a8\"], [0.3333333333333333, \"#9c179e\"], [0.4444444444444444, \"#bd3786\"], [0.5555555555555556, \"#d8576b\"], [0.6666666666666666, \"#ed7953\"], [0.7777777777777778, \"#fb9f3a\"], [0.8888888888888888, \"#fdca26\"], [1.0, \"#f0f921\"]], \"type\": \"heatmapgl\"}], \"histogram\": [{\"marker\": {\"colorbar\": {\"outlinewidth\": 0, \"ticks\": \"\"}}, \"type\": \"histogram\"}], \"histogram2d\": [{\"colorbar\": {\"outlinewidth\": 0, \"ticks\": \"\"}, \"colorscale\": [[0.0, \"#0d0887\"], [0.1111111111111111, \"#46039f\"], [0.2222222222222222, \"#7201a8\"], [0.3333333333333333, \"#9c179e\"], [0.4444444444444444, \"#bd3786\"], [0.5555555555555556, \"#d8576b\"], [0.6666666666666666, \"#ed7953\"], [0.7777777777777778, \"#fb9f3a\"], [0.8888888888888888, \"#fdca26\"], [1.0, \"#f0f921\"]], \"type\": \"histogram2d\"}], \"histogram2dcontour\": [{\"colorbar\": {\"outlinewidth\": 0, \"ticks\": \"\"}, \"colorscale\": [[0.0, \"#0d0887\"], [0.1111111111111111, \"#46039f\"], [0.2222222222222222, \"#7201a8\"], [0.3333333333333333, \"#9c179e\"], [0.4444444444444444, \"#bd3786\"], [0.5555555555555556, \"#d8576b\"], [0.6666666666666666, \"#ed7953\"], [0.7777777777777778, \"#fb9f3a\"], [0.8888888888888888, \"#fdca26\"], [1.0, \"#f0f921\"]], \"type\": \"histogram2dcontour\"}], \"mesh3d\": [{\"colorbar\": {\"outlinewidth\": 0, \"ticks\": \"\"}, \"type\": \"mesh3d\"}], \"parcoords\": [{\"line\": {\"colorbar\": {\"outlinewidth\": 0, \"ticks\": \"\"}}, \"type\": \"parcoords\"}], \"pie\": [{\"automargin\": true, \"type\": \"pie\"}], \"scatter\": [{\"marker\": {\"colorbar\": {\"outlinewidth\": 0, \"ticks\": \"\"}}, \"type\": \"scatter\"}], \"scatter3d\": [{\"line\": {\"colorbar\": {\"outlinewidth\": 0, \"ticks\": \"\"}}, \"marker\": {\"colorbar\": {\"outlinewidth\": 0, \"ticks\": \"\"}}, \"type\": \"scatter3d\"}], \"scattercarpet\": [{\"marker\": {\"colorbar\": {\"outlinewidth\": 0, \"ticks\": \"\"}}, \"type\": \"scattercarpet\"}], \"scattergeo\": [{\"marker\": {\"colorbar\": {\"outlinewidth\": 0, \"ticks\": \"\"}}, \"type\": \"scattergeo\"}], \"scattergl\": [{\"marker\": {\"colorbar\": {\"outlinewidth\": 0, \"ticks\": \"\"}}, \"type\": \"scattergl\"}], \"scattermapbox\": [{\"marker\": {\"colorbar\": {\"outlinewidth\": 0, \"ticks\": \"\"}}, \"type\": \"scattermapbox\"}], \"scatterpolar\": [{\"marker\": {\"colorbar\": {\"outlinewidth\": 0, \"ticks\": \"\"}}, \"type\": \"scatterpolar\"}], \"scatterpolargl\": [{\"marker\": {\"colorbar\": {\"outlinewidth\": 0, \"ticks\": \"\"}}, \"type\": \"scatterpolargl\"}], \"scatterternary\": [{\"marker\": {\"colorbar\": {\"outlinewidth\": 0, \"ticks\": \"\"}}, \"type\": \"scatterternary\"}], \"surface\": [{\"colorbar\": {\"outlinewidth\": 0, \"ticks\": \"\"}, \"colorscale\": [[0.0, \"#0d0887\"], [0.1111111111111111, \"#46039f\"], [0.2222222222222222, \"#7201a8\"], [0.3333333333333333, \"#9c179e\"], [0.4444444444444444, \"#bd3786\"], [0.5555555555555556, \"#d8576b\"], [0.6666666666666666, \"#ed7953\"], [0.7777777777777778, \"#fb9f3a\"], [0.8888888888888888, \"#fdca26\"], [1.0, \"#f0f921\"]], \"type\": \"surface\"}], \"table\": [{\"cells\": {\"fill\": {\"color\": \"#EBF0F8\"}, \"line\": {\"color\": \"white\"}}, \"header\": {\"fill\": {\"color\": \"#C8D4E3\"}, \"line\": {\"color\": \"white\"}}, \"type\": \"table\"}]}, \"layout\": {\"annotationdefaults\": {\"arrowcolor\": \"#2a3f5f\", \"arrowhead\": 0, \"arrowwidth\": 1}, \"coloraxis\": {\"colorbar\": {\"outlinewidth\": 0, \"ticks\": \"\"}}, \"colorscale\": {\"diverging\": [[0, \"#8e0152\"], [0.1, \"#c51b7d\"], [0.2, \"#de77ae\"], [0.3, \"#f1b6da\"], [0.4, \"#fde0ef\"], [0.5, \"#f7f7f7\"], [0.6, \"#e6f5d0\"], [0.7, \"#b8e186\"], [0.8, \"#7fbc41\"], [0.9, \"#4d9221\"], [1, \"#276419\"]], \"sequential\": [[0.0, \"#0d0887\"], [0.1111111111111111, \"#46039f\"], [0.2222222222222222, \"#7201a8\"], [0.3333333333333333, \"#9c179e\"], [0.4444444444444444, \"#bd3786\"], [0.5555555555555556, \"#d8576b\"], [0.6666666666666666, \"#ed7953\"], [0.7777777777777778, \"#fb9f3a\"], [0.8888888888888888, \"#fdca26\"], [1.0, \"#f0f921\"]], \"sequentialminus\": [[0.0, \"#0d0887\"], [0.1111111111111111, \"#46039f\"], [0.2222222222222222, \"#7201a8\"], [0.3333333333333333, \"#9c179e\"], [0.4444444444444444, \"#bd3786\"], [0.5555555555555556, \"#d8576b\"], [0.6666666666666666, \"#ed7953\"], [0.7777777777777778, \"#fb9f3a\"], [0.8888888888888888, \"#fdca26\"], [1.0, \"#f0f921\"]]}, \"colorway\": [\"#636efa\", \"#EF553B\", \"#00cc96\", \"#ab63fa\", \"#FFA15A\", \"#19d3f3\", \"#FF6692\", \"#B6E880\", \"#FF97FF\", \"#FECB52\"], \"font\": {\"color\": \"#2a3f5f\"}, \"geo\": {\"bgcolor\": \"white\", \"lakecolor\": \"white\", \"landcolor\": \"#E5ECF6\", \"showlakes\": true, \"showland\": true, \"subunitcolor\": \"white\"}, \"hoverlabel\": {\"align\": \"left\"}, \"hovermode\": \"closest\", \"mapbox\": {\"style\": \"light\"}, \"paper_bgcolor\": \"white\", \"plot_bgcolor\": \"#E5ECF6\", \"polar\": {\"angularaxis\": {\"gridcolor\": \"white\", \"linecolor\": \"white\", \"ticks\": \"\"}, \"bgcolor\": \"#E5ECF6\", \"radialaxis\": {\"gridcolor\": \"white\", \"linecolor\": \"white\", \"ticks\": \"\"}}, \"scene\": {\"xaxis\": {\"backgroundcolor\": \"#E5ECF6\", \"gridcolor\": \"white\", \"gridwidth\": 2, \"linecolor\": \"white\", \"showbackground\": true, \"ticks\": \"\", \"zerolinecolor\": \"white\"}, \"yaxis\": {\"backgroundcolor\": \"#E5ECF6\", \"gridcolor\": \"white\", \"gridwidth\": 2, \"linecolor\": \"white\", \"showbackground\": true, \"ticks\": \"\", \"zerolinecolor\": \"white\"}, \"zaxis\": {\"backgroundcolor\": \"#E5ECF6\", \"gridcolor\": \"white\", \"gridwidth\": 2, \"linecolor\": \"white\", \"showbackground\": true, \"ticks\": \"\", \"zerolinecolor\": \"white\"}}, \"shapedefaults\": {\"line\": {\"color\": \"#2a3f5f\"}}, \"ternary\": {\"aaxis\": {\"gridcolor\": \"white\", \"linecolor\": \"white\", \"ticks\": \"\"}, \"baxis\": {\"gridcolor\": \"white\", \"linecolor\": \"white\", \"ticks\": \"\"}, \"bgcolor\": \"#E5ECF6\", \"caxis\": {\"gridcolor\": \"white\", \"linecolor\": \"white\", \"ticks\": \"\"}}, \"title\": {\"x\": 0.05}, \"xaxis\": {\"automargin\": true, \"gridcolor\": \"white\", \"linecolor\": \"white\", \"ticks\": \"\", \"title\": {\"standoff\": 15}, \"zerolinecolor\": \"white\", \"zerolinewidth\": 2}, \"yaxis\": {\"automargin\": true, \"gridcolor\": \"white\", \"linecolor\": \"white\", \"ticks\": \"\", \"title\": {\"standoff\": 15}, \"zerolinecolor\": \"white\", \"zerolinewidth\": 2}}}, \"xaxis\": {\"anchor\": \"y\", \"domain\": [0.0, 1.0], \"title\": {\"text\": \"Time\"}}, \"yaxis\": {\"anchor\": \"x\", \"domain\": [0.0, 1.0], \"title\": {\"text\": \"Entries\"}}},\n",
       "                        {\"responsive\": true}\n",
       "                    ).then(function(){\n",
       "                            \n",
       "var gd = document.getElementById('aff321ea-b851-4a27-84a8-ba76d4a8a881');\n",
       "var x = new MutationObserver(function (mutations, observer) {{\n",
       "        var display = window.getComputedStyle(gd).display;\n",
       "        if (!display || display === 'none') {{\n",
       "            console.log([gd, 'removed!']);\n",
       "            Plotly.purge(gd);\n",
       "            observer.disconnect();\n",
       "        }}\n",
       "}});\n",
       "\n",
       "// Listen for the removal of the full notebook cells\n",
       "var notebookContainer = gd.closest('#notebook-container');\n",
       "if (notebookContainer) {{\n",
       "    x.observe(notebookContainer, {childList: true});\n",
       "}}\n",
       "\n",
       "// Listen for the clearing of the current output cell\n",
       "var outputEl = gd.closest('.output');\n",
       "if (outputEl) {{\n",
       "    x.observe(outputEl, {childList: true});\n",
       "}}\n",
       "\n",
       "                        })\n",
       "                };\n",
       "                });\n",
       "            </script>\n",
       "        </div>"
      ]
     },
     "metadata": {},
     "output_type": "display_data"
    }
   ],
   "source": [
    "import plotly.express as px\n",
    "data = lib_traffic_clean.groupby('Date-Time').sum().reset_index()\n",
    "fig = px.scatter(data, x=data.index, y='Entries', trendline='lowess', labels={'index':'Time', 'Entries':'Entries'})\n",
    "fig.show()"
   ]
  },
  {
   "cell_type": "code",
   "execution_count": null,
   "metadata": {},
   "outputs": [],
   "source": []
  }
 ],
 "metadata": {
  "colab": {
   "collapsed_sections": [
    "qiVIlE3ecVZE",
    "CRclVvBWcVZV",
    "LIddUmPBcVZp",
    "YtJ50hBDcVZ1",
    "qfHAiYsQcVZ-",
    "65oYc7PycVZf",
    "sEtWgqVccVaJ"
   ],
   "name": "Intro to Python.ipynb",
   "provenance": []
  },
  "kernelspec": {
   "display_name": "Python 3",
   "language": "python",
   "name": "python3"
  },
  "language_info": {
   "codemirror_mode": {
    "name": "ipython",
    "version": 3
   },
   "file_extension": ".py",
   "mimetype": "text/x-python",
   "name": "python",
   "nbconvert_exporter": "python",
   "pygments_lexer": "ipython3",
   "version": "3.8.3"
  }
 },
 "nbformat": 4,
 "nbformat_minor": 1
}
